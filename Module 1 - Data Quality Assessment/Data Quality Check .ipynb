{
 "cells": [
  {
   "cell_type": "code",
   "execution_count": 71,
   "metadata": {},
   "outputs": [],
   "source": [
    "# Import packages\n",
    "import numpy as np\n",
    "import pandas as pd\n",
    "import matplotlib.pyplot as plt\n",
    "import seaborn as sns\n",
    "%matplotlib inline"
   ]
  },
  {
   "cell_type": "code",
   "execution_count": 72,
   "metadata": {},
   "outputs": [],
   "source": [
    "# Load the datasets:\n",
    "customer_demo = pd.read_excel(\"KPMG_VI_New_raw_data_update_final.xlsx\", sheet_name = \"CustomerDemographic\")\n",
    "trans = pd.read_excel(\"KPMG_VI_New_raw_data_update_final.xlsx\", sheet_name = \"Transactions\")\n",
    "new_custs = pd.read_excel(\"KPMG_VI_New_raw_data_update_final.xlsx\", sheet_name = \"NewCustomerList\")\n",
    "address = pd.read_excel(\"KPMG_VI_New_raw_data_update_final.xlsx\", sheet_name = \"CustomerAddress\")"
   ]
  },
  {
   "cell_type": "markdown",
   "metadata": {},
   "source": [
    "## Data Structure "
   ]
  },
  {
   "cell_type": "code",
   "execution_count": 73,
   "metadata": {},
   "outputs": [
    {
     "name": "stdout",
     "output_type": "stream",
     "text": [
      "<class 'pandas.core.frame.DataFrame'>\n",
      "RangeIndex: 4000 entries, 0 to 3999\n",
      "Data columns (total 13 columns):\n",
      " #   Column                               Non-Null Count  Dtype         \n",
      "---  ------                               --------------  -----         \n",
      " 0   customer_id                          4000 non-null   int64         \n",
      " 1   first_name                           4000 non-null   object        \n",
      " 2   last_name                            3875 non-null   object        \n",
      " 3   gender                               4000 non-null   object        \n",
      " 4   past_3_years_bike_related_purchases  4000 non-null   int64         \n",
      " 5   DOB                                  3913 non-null   datetime64[ns]\n",
      " 6   job_title                            3494 non-null   object        \n",
      " 7   job_industry_category                3344 non-null   object        \n",
      " 8   wealth_segment                       4000 non-null   object        \n",
      " 9   deceased_indicator                   4000 non-null   object        \n",
      " 10  default                              3698 non-null   object        \n",
      " 11  owns_car                             4000 non-null   object        \n",
      " 12  tenure                               3913 non-null   float64       \n",
      "dtypes: datetime64[ns](1), float64(1), int64(2), object(9)\n",
      "memory usage: 406.4+ KB\n"
     ]
    }
   ],
   "source": [
    "# Take a look at the structure of the three data:\n",
    "customer_demo.info()"
   ]
  },
  {
   "cell_type": "code",
   "execution_count": 74,
   "metadata": {},
   "outputs": [
    {
     "name": "stdout",
     "output_type": "stream",
     "text": [
      "<class 'pandas.core.frame.DataFrame'>\n",
      "RangeIndex: 20000 entries, 0 to 19999\n",
      "Data columns (total 13 columns):\n",
      " #   Column                   Non-Null Count  Dtype         \n",
      "---  ------                   --------------  -----         \n",
      " 0   transaction_id           20000 non-null  int64         \n",
      " 1   product_id               20000 non-null  int64         \n",
      " 2   customer_id              20000 non-null  int64         \n",
      " 3   transaction_date         20000 non-null  datetime64[ns]\n",
      " 4   online_order             19640 non-null  float64       \n",
      " 5   order_status             20000 non-null  object        \n",
      " 6   brand                    19803 non-null  object        \n",
      " 7   product_line             19803 non-null  object        \n",
      " 8   product_class            19803 non-null  object        \n",
      " 9   product_size             19803 non-null  object        \n",
      " 10  list_price               20000 non-null  float64       \n",
      " 11  standard_cost            19803 non-null  float64       \n",
      " 12  product_first_sold_date  19803 non-null  float64       \n",
      "dtypes: datetime64[ns](1), float64(4), int64(3), object(5)\n",
      "memory usage: 2.0+ MB\n"
     ]
    }
   ],
   "source": [
    "trans.info()"
   ]
  },
  {
   "cell_type": "code",
   "execution_count": 75,
   "metadata": {},
   "outputs": [
    {
     "name": "stdout",
     "output_type": "stream",
     "text": [
      "<class 'pandas.core.frame.DataFrame'>\n",
      "RangeIndex: 1000 entries, 0 to 999\n",
      "Data columns (total 23 columns):\n",
      " #   Column                               Non-Null Count  Dtype         \n",
      "---  ------                               --------------  -----         \n",
      " 0   first_name                           1000 non-null   object        \n",
      " 1   last_name                            971 non-null    object        \n",
      " 2   gender                               1000 non-null   object        \n",
      " 3   past_3_years_bike_related_purchases  1000 non-null   int64         \n",
      " 4   DOB                                  983 non-null    datetime64[ns]\n",
      " 5   job_title                            894 non-null    object        \n",
      " 6   job_industry_category                835 non-null    object        \n",
      " 7   wealth_segment                       1000 non-null   object        \n",
      " 8   deceased_indicator                   1000 non-null   object        \n",
      " 9   owns_car                             1000 non-null   object        \n",
      " 10  tenure                               1000 non-null   int64         \n",
      " 11  address                              1000 non-null   object        \n",
      " 12  postcode                             1000 non-null   int64         \n",
      " 13  state                                1000 non-null   object        \n",
      " 14  country                              1000 non-null   object        \n",
      " 15  property_valuation                   1000 non-null   int64         \n",
      " 16  Unnamed: 16                          1000 non-null   float64       \n",
      " 17  Unnamed: 17                          1000 non-null   float64       \n",
      " 18  Unnamed: 18                          1000 non-null   float64       \n",
      " 19  Unnamed: 19                          1000 non-null   float64       \n",
      " 20  Unnamed: 20                          1000 non-null   int64         \n",
      " 21  Rank                                 1000 non-null   int64         \n",
      " 22  Value                                1000 non-null   float64       \n",
      "dtypes: datetime64[ns](1), float64(5), int64(6), object(11)\n",
      "memory usage: 179.8+ KB\n"
     ]
    }
   ],
   "source": [
    "new_custs.info()"
   ]
  },
  {
   "cell_type": "code",
   "execution_count": 76,
   "metadata": {},
   "outputs": [
    {
     "name": "stdout",
     "output_type": "stream",
     "text": [
      "<class 'pandas.core.frame.DataFrame'>\n",
      "RangeIndex: 3999 entries, 0 to 3998\n",
      "Data columns (total 6 columns):\n",
      " #   Column              Non-Null Count  Dtype \n",
      "---  ------              --------------  ----- \n",
      " 0   customer_id         3999 non-null   int64 \n",
      " 1   address             3999 non-null   object\n",
      " 2   postcode            3999 non-null   int64 \n",
      " 3   state               3999 non-null   object\n",
      " 4   country             3999 non-null   object\n",
      " 5   property_valuation  3999 non-null   int64 \n",
      "dtypes: int64(3), object(3)\n",
      "memory usage: 187.6+ KB\n"
     ]
    }
   ],
   "source": [
    "address.info()"
   ]
  },
  {
   "cell_type": "code",
   "execution_count": 77,
   "metadata": {},
   "outputs": [
    {
     "data": {
      "text/html": [
       "<div>\n",
       "<style scoped>\n",
       "    .dataframe tbody tr th:only-of-type {\n",
       "        vertical-align: middle;\n",
       "    }\n",
       "\n",
       "    .dataframe tbody tr th {\n",
       "        vertical-align: top;\n",
       "    }\n",
       "\n",
       "    .dataframe thead th {\n",
       "        text-align: right;\n",
       "    }\n",
       "</style>\n",
       "<table border=\"1\" class=\"dataframe\">\n",
       "  <thead>\n",
       "    <tr style=\"text-align: right;\">\n",
       "      <th></th>\n",
       "      <th>customer_id</th>\n",
       "      <th>first_name</th>\n",
       "      <th>last_name</th>\n",
       "      <th>gender</th>\n",
       "      <th>past_3_years_bike_related_purchases</th>\n",
       "      <th>DOB</th>\n",
       "      <th>job_title</th>\n",
       "      <th>job_industry_category</th>\n",
       "      <th>wealth_segment</th>\n",
       "      <th>deceased_indicator</th>\n",
       "      <th>default</th>\n",
       "      <th>owns_car</th>\n",
       "      <th>tenure</th>\n",
       "    </tr>\n",
       "  </thead>\n",
       "  <tbody>\n",
       "    <tr>\n",
       "      <th>1029</th>\n",
       "      <td>876</td>\n",
       "      <td>Neil</td>\n",
       "      <td>Jencey</td>\n",
       "      <td>Male</td>\n",
       "      <td>44</td>\n",
       "      <td>1968-10-06</td>\n",
       "      <td>Physical Therapy Assistant</td>\n",
       "      <td>IT</td>\n",
       "      <td>High Net Worth</td>\n",
       "      <td>N</td>\n",
       "      <td>â¤ï¸ ð ð ð ð ð ð ð ð ð ð ð ð ð ð</td>\n",
       "      <td>No</td>\n",
       "      <td>19.0</td>\n",
       "    </tr>\n",
       "    <tr>\n",
       "      <th>2604</th>\n",
       "      <td>3852</td>\n",
       "      <td>Zerk</td>\n",
       "      <td>Merrien</td>\n",
       "      <td>Male</td>\n",
       "      <td>44</td>\n",
       "      <td>1982-02-04</td>\n",
       "      <td>Help Desk Operator</td>\n",
       "      <td>NaN</td>\n",
       "      <td>Mass Customer</td>\n",
       "      <td>N</td>\n",
       "      <td>ð¾ ð ð ð ð ð ð ð§</td>\n",
       "      <td>No</td>\n",
       "      <td>4.0</td>\n",
       "    </tr>\n",
       "    <tr>\n",
       "      <th>1449</th>\n",
       "      <td>2073</td>\n",
       "      <td>Linea</td>\n",
       "      <td>NaN</td>\n",
       "      <td>Female</td>\n",
       "      <td>87</td>\n",
       "      <td>1974-01-30</td>\n",
       "      <td>NaN</td>\n",
       "      <td>Manufacturing</td>\n",
       "      <td>High Net Worth</td>\n",
       "      <td>N</td>\n",
       "      <td>&lt;&gt;?:\"{}|_+</td>\n",
       "      <td>Yes</td>\n",
       "      <td>10.0</td>\n",
       "    </tr>\n",
       "    <tr>\n",
       "      <th>749</th>\n",
       "      <td>1526</td>\n",
       "      <td>Charlie</td>\n",
       "      <td>MacKibbon</td>\n",
       "      <td>Male</td>\n",
       "      <td>50</td>\n",
       "      <td>1964-11-07</td>\n",
       "      <td>Editor</td>\n",
       "      <td>Manufacturing</td>\n",
       "      <td>Mass Customer</td>\n",
       "      <td>N</td>\n",
       "      <td>â</td>\n",
       "      <td>Yes</td>\n",
       "      <td>19.0</td>\n",
       "    </tr>\n",
       "    <tr>\n",
       "      <th>2358</th>\n",
       "      <td>2346</td>\n",
       "      <td>Joey</td>\n",
       "      <td>Scheffler</td>\n",
       "      <td>Male</td>\n",
       "      <td>89</td>\n",
       "      <td>1979-09-16</td>\n",
       "      <td>Information Systems Manager</td>\n",
       "      <td>NaN</td>\n",
       "      <td>Mass Customer</td>\n",
       "      <td>N</td>\n",
       "      <td>1</td>\n",
       "      <td>Yes</td>\n",
       "      <td>4.0</td>\n",
       "    </tr>\n",
       "    <tr>\n",
       "      <th>1645</th>\n",
       "      <td>1286</td>\n",
       "      <td>Mina</td>\n",
       "      <td>Clawley</td>\n",
       "      <td>Female</td>\n",
       "      <td>83</td>\n",
       "      <td>1975-06-28</td>\n",
       "      <td>Senior Quality Engineer</td>\n",
       "      <td>Manufacturing</td>\n",
       "      <td>High Net Worth</td>\n",
       "      <td>N</td>\n",
       "      <td>-0.5</td>\n",
       "      <td>Yes</td>\n",
       "      <td>16.0</td>\n",
       "    </tr>\n",
       "    <tr>\n",
       "      <th>1852</th>\n",
       "      <td>3155</td>\n",
       "      <td>Tiphani</td>\n",
       "      <td>Fritz</td>\n",
       "      <td>Female</td>\n",
       "      <td>88</td>\n",
       "      <td>1976-12-25</td>\n",
       "      <td>Office Assistant I</td>\n",
       "      <td>IT</td>\n",
       "      <td>Affluent Customer</td>\n",
       "      <td>N</td>\n",
       "      <td>ËÉnbá´lÉ ÉuÆÉÉ¯ ÇÉ¹olop ÊÇ ÇÉ¹oqÉl Ên Êunpá´pá...</td>\n",
       "      <td>Yes</td>\n",
       "      <td>21.0</td>\n",
       "    </tr>\n",
       "    <tr>\n",
       "      <th>922</th>\n",
       "      <td>1692</td>\n",
       "      <td>Harriette</td>\n",
       "      <td>De Matteis</td>\n",
       "      <td>Female</td>\n",
       "      <td>85</td>\n",
       "      <td>1967-04-07</td>\n",
       "      <td>Senior Quality Engineer</td>\n",
       "      <td>Health</td>\n",
       "      <td>Mass Customer</td>\n",
       "      <td>N</td>\n",
       "      <td>Ù¡Ù¢Ù£</td>\n",
       "      <td>Yes</td>\n",
       "      <td>17.0</td>\n",
       "    </tr>\n",
       "    <tr>\n",
       "      <th>1993</th>\n",
       "      <td>3962</td>\n",
       "      <td>Benoit</td>\n",
       "      <td>NaN</td>\n",
       "      <td>Male</td>\n",
       "      <td>17</td>\n",
       "      <td>1977-10-06</td>\n",
       "      <td>Project Manager</td>\n",
       "      <td>Argiculture</td>\n",
       "      <td>High Net Worth</td>\n",
       "      <td>N</td>\n",
       "      <td>,ãã»:*:ã»ãâ( â» Ï â» )ãã»:*:ã»ãâ</td>\n",
       "      <td>Yes</td>\n",
       "      <td>14.0</td>\n",
       "    </tr>\n",
       "    <tr>\n",
       "      <th>3978</th>\n",
       "      <td>3151</td>\n",
       "      <td>Thorn</td>\n",
       "      <td>Choffin</td>\n",
       "      <td>U</td>\n",
       "      <td>20</td>\n",
       "      <td>NaT</td>\n",
       "      <td>Senior Developer</td>\n",
       "      <td>IT</td>\n",
       "      <td>Affluent Customer</td>\n",
       "      <td>N</td>\n",
       "      <td>NaN</td>\n",
       "      <td>Yes</td>\n",
       "      <td>NaN</td>\n",
       "    </tr>\n",
       "  </tbody>\n",
       "</table>\n",
       "</div>"
      ],
      "text/plain": [
       "      customer_id first_name   last_name  gender  \\\n",
       "1029          876       Neil      Jencey    Male   \n",
       "2604         3852       Zerk     Merrien    Male   \n",
       "1449         2073      Linea         NaN  Female   \n",
       "749          1526    Charlie   MacKibbon    Male   \n",
       "2358         2346       Joey   Scheffler    Male   \n",
       "1645         1286       Mina     Clawley  Female   \n",
       "1852         3155    Tiphani       Fritz  Female   \n",
       "922          1692  Harriette  De Matteis  Female   \n",
       "1993         3962     Benoit         NaN    Male   \n",
       "3978         3151      Thorn     Choffin       U   \n",
       "\n",
       "      past_3_years_bike_related_purchases        DOB  \\\n",
       "1029                                   44 1968-10-06   \n",
       "2604                                   44 1982-02-04   \n",
       "1449                                   87 1974-01-30   \n",
       "749                                    50 1964-11-07   \n",
       "2358                                   89 1979-09-16   \n",
       "1645                                   83 1975-06-28   \n",
       "1852                                   88 1976-12-25   \n",
       "922                                    85 1967-04-07   \n",
       "1993                                   17 1977-10-06   \n",
       "3978                                   20        NaT   \n",
       "\n",
       "                        job_title job_industry_category     wealth_segment  \\\n",
       "1029   Physical Therapy Assistant                    IT     High Net Worth   \n",
       "2604           Help Desk Operator                   NaN      Mass Customer   \n",
       "1449                          NaN         Manufacturing     High Net Worth   \n",
       "749                        Editor         Manufacturing      Mass Customer   \n",
       "2358  Information Systems Manager                   NaN      Mass Customer   \n",
       "1645      Senior Quality Engineer         Manufacturing     High Net Worth   \n",
       "1852           Office Assistant I                    IT  Affluent Customer   \n",
       "922       Senior Quality Engineer                Health      Mass Customer   \n",
       "1993              Project Manager           Argiculture     High Net Worth   \n",
       "3978             Senior Developer                    IT  Affluent Customer   \n",
       "\n",
       "     deceased_indicator                                            default  \\\n",
       "1029                  N                   â¤ï¸ ð ð ð ð ð ð ð ð ð ð ð ð ð ð   \n",
       "2604                  N                                  ð¾ ð ð ð ð ð ð ð§   \n",
       "1449                  N                                         <>?:\"{}|_+   \n",
       "749                   N                                                  â   \n",
       "2358                  N                                                  1   \n",
       "1645                  N                                               -0.5   \n",
       "1852                  N  ËÉnbá´lÉ ÉuÆÉÉ¯ ÇÉ¹olop ÊÇ ÇÉ¹oqÉl Ên Êunpá´pá...   \n",
       "922                   N                                             Ù¡Ù¢Ù£   \n",
       "1993                  N                   ,ãã»:*:ã»ãâ( â» Ï â» )ãã»:*:ã»ãâ   \n",
       "3978                  N                                                NaN   \n",
       "\n",
       "     owns_car  tenure  \n",
       "1029       No    19.0  \n",
       "2604       No     4.0  \n",
       "1449      Yes    10.0  \n",
       "749       Yes    19.0  \n",
       "2358      Yes     4.0  \n",
       "1645      Yes    16.0  \n",
       "1852      Yes    21.0  \n",
       "922       Yes    17.0  \n",
       "1993      Yes    14.0  \n",
       "3978      Yes     NaN  "
      ]
     },
     "execution_count": 77,
     "metadata": {},
     "output_type": "execute_result"
    }
   ],
   "source": [
    "# Take a look at each dataset: \n",
    "customer_demo.sample(10)"
   ]
  },
  {
   "cell_type": "code",
   "execution_count": 78,
   "metadata": {},
   "outputs": [
    {
     "data": {
      "text/html": [
       "<div>\n",
       "<style scoped>\n",
       "    .dataframe tbody tr th:only-of-type {\n",
       "        vertical-align: middle;\n",
       "    }\n",
       "\n",
       "    .dataframe tbody tr th {\n",
       "        vertical-align: top;\n",
       "    }\n",
       "\n",
       "    .dataframe thead th {\n",
       "        text-align: right;\n",
       "    }\n",
       "</style>\n",
       "<table border=\"1\" class=\"dataframe\">\n",
       "  <thead>\n",
       "    <tr style=\"text-align: right;\">\n",
       "      <th></th>\n",
       "      <th>transaction_id</th>\n",
       "      <th>product_id</th>\n",
       "      <th>customer_id</th>\n",
       "      <th>transaction_date</th>\n",
       "      <th>online_order</th>\n",
       "      <th>order_status</th>\n",
       "      <th>brand</th>\n",
       "      <th>product_line</th>\n",
       "      <th>product_class</th>\n",
       "      <th>product_size</th>\n",
       "      <th>list_price</th>\n",
       "      <th>standard_cost</th>\n",
       "      <th>product_first_sold_date</th>\n",
       "    </tr>\n",
       "  </thead>\n",
       "  <tbody>\n",
       "    <tr>\n",
       "      <th>18479</th>\n",
       "      <td>18480</td>\n",
       "      <td>96</td>\n",
       "      <td>1794</td>\n",
       "      <td>2017-12-29</td>\n",
       "      <td>0.0</td>\n",
       "      <td>Approved</td>\n",
       "      <td>WeareA2B</td>\n",
       "      <td>Road</td>\n",
       "      <td>low</td>\n",
       "      <td>small</td>\n",
       "      <td>1172.78</td>\n",
       "      <td>1043.77</td>\n",
       "      <td>37539.0</td>\n",
       "    </tr>\n",
       "    <tr>\n",
       "      <th>15392</th>\n",
       "      <td>15393</td>\n",
       "      <td>98</td>\n",
       "      <td>2176</td>\n",
       "      <td>2017-06-28</td>\n",
       "      <td>1.0</td>\n",
       "      <td>Approved</td>\n",
       "      <td>OHM Cycles</td>\n",
       "      <td>Standard</td>\n",
       "      <td>medium</td>\n",
       "      <td>medium</td>\n",
       "      <td>795.34</td>\n",
       "      <td>101.58</td>\n",
       "      <td>42172.0</td>\n",
       "    </tr>\n",
       "    <tr>\n",
       "      <th>13689</th>\n",
       "      <td>13690</td>\n",
       "      <td>30</td>\n",
       "      <td>2279</td>\n",
       "      <td>2017-05-31</td>\n",
       "      <td>1.0</td>\n",
       "      <td>Approved</td>\n",
       "      <td>Solex</td>\n",
       "      <td>Standard</td>\n",
       "      <td>high</td>\n",
       "      <td>medium</td>\n",
       "      <td>748.17</td>\n",
       "      <td>448.90</td>\n",
       "      <td>33552.0</td>\n",
       "    </tr>\n",
       "    <tr>\n",
       "      <th>9766</th>\n",
       "      <td>9767</td>\n",
       "      <td>45</td>\n",
       "      <td>260</td>\n",
       "      <td>2017-02-20</td>\n",
       "      <td>1.0</td>\n",
       "      <td>Approved</td>\n",
       "      <td>Trek Bicycles</td>\n",
       "      <td>Road</td>\n",
       "      <td>low</td>\n",
       "      <td>medium</td>\n",
       "      <td>980.37</td>\n",
       "      <td>234.43</td>\n",
       "      <td>40649.0</td>\n",
       "    </tr>\n",
       "    <tr>\n",
       "      <th>9188</th>\n",
       "      <td>9189</td>\n",
       "      <td>0</td>\n",
       "      <td>3251</td>\n",
       "      <td>2017-12-15</td>\n",
       "      <td>1.0</td>\n",
       "      <td>Approved</td>\n",
       "      <td>Norco Bicycles</td>\n",
       "      <td>Standard</td>\n",
       "      <td>low</td>\n",
       "      <td>medium</td>\n",
       "      <td>363.01</td>\n",
       "      <td>290.41</td>\n",
       "      <td>42458.0</td>\n",
       "    </tr>\n",
       "    <tr>\n",
       "      <th>2522</th>\n",
       "      <td>2523</td>\n",
       "      <td>82</td>\n",
       "      <td>3195</td>\n",
       "      <td>2017-01-04</td>\n",
       "      <td>1.0</td>\n",
       "      <td>Approved</td>\n",
       "      <td>Norco Bicycles</td>\n",
       "      <td>Standard</td>\n",
       "      <td>high</td>\n",
       "      <td>medium</td>\n",
       "      <td>1148.64</td>\n",
       "      <td>689.18</td>\n",
       "      <td>42226.0</td>\n",
       "    </tr>\n",
       "    <tr>\n",
       "      <th>8701</th>\n",
       "      <td>8702</td>\n",
       "      <td>19</td>\n",
       "      <td>3396</td>\n",
       "      <td>2017-04-24</td>\n",
       "      <td>0.0</td>\n",
       "      <td>Approved</td>\n",
       "      <td>OHM Cycles</td>\n",
       "      <td>Road</td>\n",
       "      <td>high</td>\n",
       "      <td>large</td>\n",
       "      <td>12.01</td>\n",
       "      <td>7.21</td>\n",
       "      <td>35160.0</td>\n",
       "    </tr>\n",
       "    <tr>\n",
       "      <th>14786</th>\n",
       "      <td>14787</td>\n",
       "      <td>32</td>\n",
       "      <td>87</td>\n",
       "      <td>2017-12-12</td>\n",
       "      <td>1.0</td>\n",
       "      <td>Approved</td>\n",
       "      <td>Giant Bicycles</td>\n",
       "      <td>Standard</td>\n",
       "      <td>medium</td>\n",
       "      <td>medium</td>\n",
       "      <td>642.70</td>\n",
       "      <td>211.37</td>\n",
       "      <td>37337.0</td>\n",
       "    </tr>\n",
       "    <tr>\n",
       "      <th>11740</th>\n",
       "      <td>11741</td>\n",
       "      <td>49</td>\n",
       "      <td>248</td>\n",
       "      <td>2017-05-05</td>\n",
       "      <td>1.0</td>\n",
       "      <td>Cancelled</td>\n",
       "      <td>Trek Bicycles</td>\n",
       "      <td>Road</td>\n",
       "      <td>medium</td>\n",
       "      <td>medium</td>\n",
       "      <td>533.51</td>\n",
       "      <td>400.13</td>\n",
       "      <td>41009.0</td>\n",
       "    </tr>\n",
       "    <tr>\n",
       "      <th>17856</th>\n",
       "      <td>17857</td>\n",
       "      <td>0</td>\n",
       "      <td>1107</td>\n",
       "      <td>2017-01-31</td>\n",
       "      <td>0.0</td>\n",
       "      <td>Approved</td>\n",
       "      <td>Trek Bicycles</td>\n",
       "      <td>Standard</td>\n",
       "      <td>high</td>\n",
       "      <td>medium</td>\n",
       "      <td>358.39</td>\n",
       "      <td>215.03</td>\n",
       "      <td>38002.0</td>\n",
       "    </tr>\n",
       "  </tbody>\n",
       "</table>\n",
       "</div>"
      ],
      "text/plain": [
       "       transaction_id  product_id  customer_id transaction_date  online_order  \\\n",
       "18479           18480          96         1794       2017-12-29           0.0   \n",
       "15392           15393          98         2176       2017-06-28           1.0   \n",
       "13689           13690          30         2279       2017-05-31           1.0   \n",
       "9766             9767          45          260       2017-02-20           1.0   \n",
       "9188             9189           0         3251       2017-12-15           1.0   \n",
       "2522             2523          82         3195       2017-01-04           1.0   \n",
       "8701             8702          19         3396       2017-04-24           0.0   \n",
       "14786           14787          32           87       2017-12-12           1.0   \n",
       "11740           11741          49          248       2017-05-05           1.0   \n",
       "17856           17857           0         1107       2017-01-31           0.0   \n",
       "\n",
       "      order_status           brand product_line product_class product_size  \\\n",
       "18479     Approved        WeareA2B         Road           low        small   \n",
       "15392     Approved      OHM Cycles     Standard        medium       medium   \n",
       "13689     Approved           Solex     Standard          high       medium   \n",
       "9766      Approved   Trek Bicycles         Road           low       medium   \n",
       "9188      Approved  Norco Bicycles     Standard           low       medium   \n",
       "2522      Approved  Norco Bicycles     Standard          high       medium   \n",
       "8701      Approved      OHM Cycles         Road          high        large   \n",
       "14786     Approved  Giant Bicycles     Standard        medium       medium   \n",
       "11740    Cancelled   Trek Bicycles         Road        medium       medium   \n",
       "17856     Approved   Trek Bicycles     Standard          high       medium   \n",
       "\n",
       "       list_price  standard_cost  product_first_sold_date  \n",
       "18479     1172.78        1043.77                  37539.0  \n",
       "15392      795.34         101.58                  42172.0  \n",
       "13689      748.17         448.90                  33552.0  \n",
       "9766       980.37         234.43                  40649.0  \n",
       "9188       363.01         290.41                  42458.0  \n",
       "2522      1148.64         689.18                  42226.0  \n",
       "8701        12.01           7.21                  35160.0  \n",
       "14786      642.70         211.37                  37337.0  \n",
       "11740      533.51         400.13                  41009.0  \n",
       "17856      358.39         215.03                  38002.0  "
      ]
     },
     "execution_count": 78,
     "metadata": {},
     "output_type": "execute_result"
    }
   ],
   "source": [
    "trans.sample(10)"
   ]
  },
  {
   "cell_type": "code",
   "execution_count": 79,
   "metadata": {},
   "outputs": [
    {
     "data": {
      "text/html": [
       "<div>\n",
       "<style scoped>\n",
       "    .dataframe tbody tr th:only-of-type {\n",
       "        vertical-align: middle;\n",
       "    }\n",
       "\n",
       "    .dataframe tbody tr th {\n",
       "        vertical-align: top;\n",
       "    }\n",
       "\n",
       "    .dataframe thead th {\n",
       "        text-align: right;\n",
       "    }\n",
       "</style>\n",
       "<table border=\"1\" class=\"dataframe\">\n",
       "  <thead>\n",
       "    <tr style=\"text-align: right;\">\n",
       "      <th></th>\n",
       "      <th>first_name</th>\n",
       "      <th>last_name</th>\n",
       "      <th>gender</th>\n",
       "      <th>past_3_years_bike_related_purchases</th>\n",
       "      <th>DOB</th>\n",
       "      <th>job_title</th>\n",
       "      <th>job_industry_category</th>\n",
       "      <th>wealth_segment</th>\n",
       "      <th>deceased_indicator</th>\n",
       "      <th>owns_car</th>\n",
       "      <th>...</th>\n",
       "      <th>state</th>\n",
       "      <th>country</th>\n",
       "      <th>property_valuation</th>\n",
       "      <th>Unnamed: 16</th>\n",
       "      <th>Unnamed: 17</th>\n",
       "      <th>Unnamed: 18</th>\n",
       "      <th>Unnamed: 19</th>\n",
       "      <th>Unnamed: 20</th>\n",
       "      <th>Rank</th>\n",
       "      <th>Value</th>\n",
       "    </tr>\n",
       "  </thead>\n",
       "  <tbody>\n",
       "    <tr>\n",
       "      <th>970</th>\n",
       "      <td>Mavra</td>\n",
       "      <td>Finan</td>\n",
       "      <td>Female</td>\n",
       "      <td>30</td>\n",
       "      <td>1967-08-23</td>\n",
       "      <td>Nurse</td>\n",
       "      <td>Property</td>\n",
       "      <td>Affluent Customer</td>\n",
       "      <td>N</td>\n",
       "      <td>Yes</td>\n",
       "      <td>...</td>\n",
       "      <td>NSW</td>\n",
       "      <td>Australia</td>\n",
       "      <td>9</td>\n",
       "      <td>1.05</td>\n",
       "      <td>1.3125</td>\n",
       "      <td>1.640625</td>\n",
       "      <td>1.640625</td>\n",
       "      <td>967</td>\n",
       "      <td>967</td>\n",
       "      <td>0.435625</td>\n",
       "    </tr>\n",
       "    <tr>\n",
       "      <th>213</th>\n",
       "      <td>Shane</td>\n",
       "      <td>Killen</td>\n",
       "      <td>Male</td>\n",
       "      <td>28</td>\n",
       "      <td>1956-10-16</td>\n",
       "      <td>Account Executive</td>\n",
       "      <td>Entertainment</td>\n",
       "      <td>High Net Worth</td>\n",
       "      <td>N</td>\n",
       "      <td>No</td>\n",
       "      <td>...</td>\n",
       "      <td>NSW</td>\n",
       "      <td>Australia</td>\n",
       "      <td>8</td>\n",
       "      <td>0.56</td>\n",
       "      <td>0.5600</td>\n",
       "      <td>0.560000</td>\n",
       "      <td>0.560000</td>\n",
       "      <td>212</td>\n",
       "      <td>212</td>\n",
       "      <td>1.136875</td>\n",
       "    </tr>\n",
       "    <tr>\n",
       "      <th>53</th>\n",
       "      <td>Odessa</td>\n",
       "      <td>Mc Andrew</td>\n",
       "      <td>Female</td>\n",
       "      <td>97</td>\n",
       "      <td>1981-12-01</td>\n",
       "      <td>NaN</td>\n",
       "      <td>Property</td>\n",
       "      <td>Mass Customer</td>\n",
       "      <td>N</td>\n",
       "      <td>No</td>\n",
       "      <td>...</td>\n",
       "      <td>NSW</td>\n",
       "      <td>Australia</td>\n",
       "      <td>10</td>\n",
       "      <td>0.60</td>\n",
       "      <td>0.6000</td>\n",
       "      <td>0.750000</td>\n",
       "      <td>0.637500</td>\n",
       "      <td>54</td>\n",
       "      <td>54</td>\n",
       "      <td>1.381250</td>\n",
       "    </tr>\n",
       "    <tr>\n",
       "      <th>49</th>\n",
       "      <td>Thaxter</td>\n",
       "      <td>Kingsbury</td>\n",
       "      <td>Male</td>\n",
       "      <td>12</td>\n",
       "      <td>1950-05-03</td>\n",
       "      <td>Product Engineer</td>\n",
       "      <td>Argiculture</td>\n",
       "      <td>Mass Customer</td>\n",
       "      <td>N</td>\n",
       "      <td>No</td>\n",
       "      <td>...</td>\n",
       "      <td>NSW</td>\n",
       "      <td>Australia</td>\n",
       "      <td>12</td>\n",
       "      <td>0.70</td>\n",
       "      <td>0.7000</td>\n",
       "      <td>0.875000</td>\n",
       "      <td>0.743750</td>\n",
       "      <td>50</td>\n",
       "      <td>50</td>\n",
       "      <td>1.406250</td>\n",
       "    </tr>\n",
       "    <tr>\n",
       "      <th>901</th>\n",
       "      <td>Andriana</td>\n",
       "      <td>Gosnoll</td>\n",
       "      <td>Female</td>\n",
       "      <td>53</td>\n",
       "      <td>1964-05-19</td>\n",
       "      <td>Chief Design Engineer</td>\n",
       "      <td>Manufacturing</td>\n",
       "      <td>Mass Customer</td>\n",
       "      <td>N</td>\n",
       "      <td>No</td>\n",
       "      <td>...</td>\n",
       "      <td>NSW</td>\n",
       "      <td>Australia</td>\n",
       "      <td>10</td>\n",
       "      <td>0.49</td>\n",
       "      <td>0.4900</td>\n",
       "      <td>0.612500</td>\n",
       "      <td>0.520625</td>\n",
       "      <td>899</td>\n",
       "      <td>899</td>\n",
       "      <td>0.510000</td>\n",
       "    </tr>\n",
       "    <tr>\n",
       "      <th>841</th>\n",
       "      <td>Nichols</td>\n",
       "      <td>Devinn</td>\n",
       "      <td>Male</td>\n",
       "      <td>47</td>\n",
       "      <td>1979-09-29</td>\n",
       "      <td>Recruiter</td>\n",
       "      <td>NaN</td>\n",
       "      <td>Affluent Customer</td>\n",
       "      <td>N</td>\n",
       "      <td>No</td>\n",
       "      <td>...</td>\n",
       "      <td>NSW</td>\n",
       "      <td>Australia</td>\n",
       "      <td>12</td>\n",
       "      <td>0.95</td>\n",
       "      <td>0.9500</td>\n",
       "      <td>1.187500</td>\n",
       "      <td>1.187500</td>\n",
       "      <td>842</td>\n",
       "      <td>842</td>\n",
       "      <td>0.570000</td>\n",
       "    </tr>\n",
       "    <tr>\n",
       "      <th>309</th>\n",
       "      <td>Aldric</td>\n",
       "      <td>Birney</td>\n",
       "      <td>Male</td>\n",
       "      <td>21</td>\n",
       "      <td>1971-08-19</td>\n",
       "      <td>NaN</td>\n",
       "      <td>Manufacturing</td>\n",
       "      <td>Mass Customer</td>\n",
       "      <td>N</td>\n",
       "      <td>Yes</td>\n",
       "      <td>...</td>\n",
       "      <td>NSW</td>\n",
       "      <td>Australia</td>\n",
       "      <td>6</td>\n",
       "      <td>0.64</td>\n",
       "      <td>0.8000</td>\n",
       "      <td>0.800000</td>\n",
       "      <td>0.680000</td>\n",
       "      <td>310</td>\n",
       "      <td>310</td>\n",
       "      <td>1.022656</td>\n",
       "    </tr>\n",
       "    <tr>\n",
       "      <th>275</th>\n",
       "      <td>Dahlia</td>\n",
       "      <td>Shovlar</td>\n",
       "      <td>Female</td>\n",
       "      <td>90</td>\n",
       "      <td>1966-03-07</td>\n",
       "      <td>Environmental Specialist</td>\n",
       "      <td>NaN</td>\n",
       "      <td>Affluent Customer</td>\n",
       "      <td>N</td>\n",
       "      <td>Yes</td>\n",
       "      <td>...</td>\n",
       "      <td>VIC</td>\n",
       "      <td>Australia</td>\n",
       "      <td>3</td>\n",
       "      <td>0.41</td>\n",
       "      <td>0.5125</td>\n",
       "      <td>0.640625</td>\n",
       "      <td>0.640625</td>\n",
       "      <td>274</td>\n",
       "      <td>274</td>\n",
       "      <td>1.051875</td>\n",
       "    </tr>\n",
       "    <tr>\n",
       "      <th>833</th>\n",
       "      <td>Teodor</td>\n",
       "      <td>Mullinder</td>\n",
       "      <td>Male</td>\n",
       "      <td>56</td>\n",
       "      <td>1962-08-26</td>\n",
       "      <td>Nuclear Power Engineer</td>\n",
       "      <td>Manufacturing</td>\n",
       "      <td>High Net Worth</td>\n",
       "      <td>N</td>\n",
       "      <td>No</td>\n",
       "      <td>...</td>\n",
       "      <td>VIC</td>\n",
       "      <td>Australia</td>\n",
       "      <td>5</td>\n",
       "      <td>0.53</td>\n",
       "      <td>0.5300</td>\n",
       "      <td>0.530000</td>\n",
       "      <td>0.530000</td>\n",
       "      <td>832</td>\n",
       "      <td>832</td>\n",
       "      <td>0.575000</td>\n",
       "    </tr>\n",
       "    <tr>\n",
       "      <th>924</th>\n",
       "      <td>Lezlie</td>\n",
       "      <td>Clemits</td>\n",
       "      <td>Female</td>\n",
       "      <td>2</td>\n",
       "      <td>1973-05-30</td>\n",
       "      <td>Senior Cost Accountant</td>\n",
       "      <td>Financial Services</td>\n",
       "      <td>Mass Customer</td>\n",
       "      <td>N</td>\n",
       "      <td>Yes</td>\n",
       "      <td>...</td>\n",
       "      <td>NSW</td>\n",
       "      <td>Australia</td>\n",
       "      <td>10</td>\n",
       "      <td>0.63</td>\n",
       "      <td>0.7875</td>\n",
       "      <td>0.984375</td>\n",
       "      <td>0.836719</td>\n",
       "      <td>924</td>\n",
       "      <td>924</td>\n",
       "      <td>0.488750</td>\n",
       "    </tr>\n",
       "  </tbody>\n",
       "</table>\n",
       "<p>10 rows × 23 columns</p>\n",
       "</div>"
      ],
      "text/plain": [
       "    first_name  last_name  gender  past_3_years_bike_related_purchases  \\\n",
       "970      Mavra      Finan  Female                                   30   \n",
       "213      Shane     Killen    Male                                   28   \n",
       "53      Odessa  Mc Andrew  Female                                   97   \n",
       "49     Thaxter  Kingsbury    Male                                   12   \n",
       "901   Andriana    Gosnoll  Female                                   53   \n",
       "841    Nichols     Devinn    Male                                   47   \n",
       "309     Aldric     Birney    Male                                   21   \n",
       "275     Dahlia    Shovlar  Female                                   90   \n",
       "833     Teodor  Mullinder    Male                                   56   \n",
       "924     Lezlie    Clemits  Female                                    2   \n",
       "\n",
       "           DOB                 job_title job_industry_category  \\\n",
       "970 1967-08-23                     Nurse              Property   \n",
       "213 1956-10-16         Account Executive         Entertainment   \n",
       "53  1981-12-01                       NaN              Property   \n",
       "49  1950-05-03          Product Engineer           Argiculture   \n",
       "901 1964-05-19     Chief Design Engineer         Manufacturing   \n",
       "841 1979-09-29                 Recruiter                   NaN   \n",
       "309 1971-08-19                       NaN         Manufacturing   \n",
       "275 1966-03-07  Environmental Specialist                   NaN   \n",
       "833 1962-08-26    Nuclear Power Engineer         Manufacturing   \n",
       "924 1973-05-30    Senior Cost Accountant    Financial Services   \n",
       "\n",
       "        wealth_segment deceased_indicator owns_car  ...  state    country  \\\n",
       "970  Affluent Customer                  N      Yes  ...    NSW  Australia   \n",
       "213     High Net Worth                  N       No  ...    NSW  Australia   \n",
       "53       Mass Customer                  N       No  ...    NSW  Australia   \n",
       "49       Mass Customer                  N       No  ...    NSW  Australia   \n",
       "901      Mass Customer                  N       No  ...    NSW  Australia   \n",
       "841  Affluent Customer                  N       No  ...    NSW  Australia   \n",
       "309      Mass Customer                  N      Yes  ...    NSW  Australia   \n",
       "275  Affluent Customer                  N      Yes  ...    VIC  Australia   \n",
       "833     High Net Worth                  N       No  ...    VIC  Australia   \n",
       "924      Mass Customer                  N      Yes  ...    NSW  Australia   \n",
       "\n",
       "     property_valuation Unnamed: 16 Unnamed: 17  Unnamed: 18  Unnamed: 19  \\\n",
       "970                   9        1.05      1.3125     1.640625     1.640625   \n",
       "213                   8        0.56      0.5600     0.560000     0.560000   \n",
       "53                   10        0.60      0.6000     0.750000     0.637500   \n",
       "49                   12        0.70      0.7000     0.875000     0.743750   \n",
       "901                  10        0.49      0.4900     0.612500     0.520625   \n",
       "841                  12        0.95      0.9500     1.187500     1.187500   \n",
       "309                   6        0.64      0.8000     0.800000     0.680000   \n",
       "275                   3        0.41      0.5125     0.640625     0.640625   \n",
       "833                   5        0.53      0.5300     0.530000     0.530000   \n",
       "924                  10        0.63      0.7875     0.984375     0.836719   \n",
       "\n",
       "     Unnamed: 20  Rank     Value  \n",
       "970          967   967  0.435625  \n",
       "213          212   212  1.136875  \n",
       "53            54    54  1.381250  \n",
       "49            50    50  1.406250  \n",
       "901          899   899  0.510000  \n",
       "841          842   842  0.570000  \n",
       "309          310   310  1.022656  \n",
       "275          274   274  1.051875  \n",
       "833          832   832  0.575000  \n",
       "924          924   924  0.488750  \n",
       "\n",
       "[10 rows x 23 columns]"
      ]
     },
     "execution_count": 79,
     "metadata": {},
     "output_type": "execute_result"
    }
   ],
   "source": [
    "new_custs.sample(10)"
   ]
  },
  {
   "cell_type": "code",
   "execution_count": 80,
   "metadata": {},
   "outputs": [
    {
     "data": {
      "text/html": [
       "<div>\n",
       "<style scoped>\n",
       "    .dataframe tbody tr th:only-of-type {\n",
       "        vertical-align: middle;\n",
       "    }\n",
       "\n",
       "    .dataframe tbody tr th {\n",
       "        vertical-align: top;\n",
       "    }\n",
       "\n",
       "    .dataframe thead th {\n",
       "        text-align: right;\n",
       "    }\n",
       "</style>\n",
       "<table border=\"1\" class=\"dataframe\">\n",
       "  <thead>\n",
       "    <tr style=\"text-align: right;\">\n",
       "      <th></th>\n",
       "      <th>customer_id</th>\n",
       "      <th>address</th>\n",
       "      <th>postcode</th>\n",
       "      <th>state</th>\n",
       "      <th>country</th>\n",
       "      <th>property_valuation</th>\n",
       "    </tr>\n",
       "  </thead>\n",
       "  <tbody>\n",
       "    <tr>\n",
       "      <th>2112</th>\n",
       "      <td>2117</td>\n",
       "      <td>556 Esch Street</td>\n",
       "      <td>2090</td>\n",
       "      <td>NSW</td>\n",
       "      <td>Australia</td>\n",
       "      <td>12</td>\n",
       "    </tr>\n",
       "    <tr>\n",
       "      <th>2922</th>\n",
       "      <td>2927</td>\n",
       "      <td>723 Center Court</td>\n",
       "      <td>3933</td>\n",
       "      <td>VIC</td>\n",
       "      <td>Australia</td>\n",
       "      <td>11</td>\n",
       "    </tr>\n",
       "    <tr>\n",
       "      <th>343</th>\n",
       "      <td>348</td>\n",
       "      <td>7633 Mayer Plaza</td>\n",
       "      <td>2768</td>\n",
       "      <td>NSW</td>\n",
       "      <td>Australia</td>\n",
       "      <td>10</td>\n",
       "    </tr>\n",
       "    <tr>\n",
       "      <th>3154</th>\n",
       "      <td>3159</td>\n",
       "      <td>541 Ramsey Alley</td>\n",
       "      <td>3201</td>\n",
       "      <td>VIC</td>\n",
       "      <td>Australia</td>\n",
       "      <td>7</td>\n",
       "    </tr>\n",
       "    <tr>\n",
       "      <th>1213</th>\n",
       "      <td>1218</td>\n",
       "      <td>0 Evergreen Road</td>\n",
       "      <td>3037</td>\n",
       "      <td>VIC</td>\n",
       "      <td>Australia</td>\n",
       "      <td>7</td>\n",
       "    </tr>\n",
       "    <tr>\n",
       "      <th>2192</th>\n",
       "      <td>2197</td>\n",
       "      <td>42473 Sycamore Pass</td>\n",
       "      <td>3355</td>\n",
       "      <td>VIC</td>\n",
       "      <td>Australia</td>\n",
       "      <td>4</td>\n",
       "    </tr>\n",
       "    <tr>\n",
       "      <th>195</th>\n",
       "      <td>200</td>\n",
       "      <td>7 Havey Point</td>\n",
       "      <td>4005</td>\n",
       "      <td>QLD</td>\n",
       "      <td>Australia</td>\n",
       "      <td>2</td>\n",
       "    </tr>\n",
       "    <tr>\n",
       "      <th>3496</th>\n",
       "      <td>3501</td>\n",
       "      <td>16 Carberry Pass</td>\n",
       "      <td>2119</td>\n",
       "      <td>NSW</td>\n",
       "      <td>Australia</td>\n",
       "      <td>11</td>\n",
       "    </tr>\n",
       "    <tr>\n",
       "      <th>2262</th>\n",
       "      <td>2267</td>\n",
       "      <td>93 Shasta Avenue</td>\n",
       "      <td>4171</td>\n",
       "      <td>QLD</td>\n",
       "      <td>Australia</td>\n",
       "      <td>10</td>\n",
       "    </tr>\n",
       "    <tr>\n",
       "      <th>1186</th>\n",
       "      <td>1191</td>\n",
       "      <td>135 Crest Line Drive</td>\n",
       "      <td>2044</td>\n",
       "      <td>NSW</td>\n",
       "      <td>Australia</td>\n",
       "      <td>10</td>\n",
       "    </tr>\n",
       "  </tbody>\n",
       "</table>\n",
       "</div>"
      ],
      "text/plain": [
       "      customer_id               address  postcode state    country  \\\n",
       "2112         2117       556 Esch Street      2090   NSW  Australia   \n",
       "2922         2927      723 Center Court      3933   VIC  Australia   \n",
       "343           348      7633 Mayer Plaza      2768   NSW  Australia   \n",
       "3154         3159      541 Ramsey Alley      3201   VIC  Australia   \n",
       "1213         1218      0 Evergreen Road      3037   VIC  Australia   \n",
       "2192         2197   42473 Sycamore Pass      3355   VIC  Australia   \n",
       "195           200         7 Havey Point      4005   QLD  Australia   \n",
       "3496         3501      16 Carberry Pass      2119   NSW  Australia   \n",
       "2262         2267      93 Shasta Avenue      4171   QLD  Australia   \n",
       "1186         1191  135 Crest Line Drive      2044   NSW  Australia   \n",
       "\n",
       "      property_valuation  \n",
       "2112                  12  \n",
       "2922                  11  \n",
       "343                   10  \n",
       "3154                   7  \n",
       "1213                   7  \n",
       "2192                   4  \n",
       "195                    2  \n",
       "3496                  11  \n",
       "2262                  10  \n",
       "1186                  10  "
      ]
     },
     "execution_count": 80,
     "metadata": {},
     "output_type": "execute_result"
    }
   ],
   "source": [
    "address.sample(10)"
   ]
  },
  {
   "cell_type": "markdown",
   "metadata": {},
   "source": [
    "## Missing Data Check"
   ]
  },
  {
   "cell_type": "code",
   "execution_count": 81,
   "metadata": {},
   "outputs": [
    {
     "data": {
      "text/plain": [
       "customer_id                              0\n",
       "first_name                               0\n",
       "last_name                              125\n",
       "gender                                   0\n",
       "past_3_years_bike_related_purchases      0\n",
       "DOB                                     87\n",
       "job_title                              506\n",
       "job_industry_category                  656\n",
       "wealth_segment                           0\n",
       "deceased_indicator                       0\n",
       "default                                302\n",
       "owns_car                                 0\n",
       "tenure                                  87\n",
       "dtype: int64"
      ]
     },
     "execution_count": 81,
     "metadata": {},
     "output_type": "execute_result"
    }
   ],
   "source": [
    "# Check missing values for Customer Demographics: \n",
    "customer_demo.isnull().sum()"
   ]
  },
  {
   "cell_type": "code",
   "execution_count": 82,
   "metadata": {},
   "outputs": [
    {
     "data": {
      "text/plain": [
       "transaction_id               0\n",
       "product_id                   0\n",
       "customer_id                  0\n",
       "transaction_date             0\n",
       "online_order               360\n",
       "order_status                 0\n",
       "brand                      197\n",
       "product_line               197\n",
       "product_class              197\n",
       "product_size               197\n",
       "list_price                   0\n",
       "standard_cost              197\n",
       "product_first_sold_date    197\n",
       "dtype: int64"
      ]
     },
     "execution_count": 82,
     "metadata": {},
     "output_type": "execute_result"
    }
   ],
   "source": [
    "# Check missing values for Transaction Data:\n",
    "trans.isnull().sum()"
   ]
  },
  {
   "cell_type": "code",
   "execution_count": 83,
   "metadata": {},
   "outputs": [
    {
     "data": {
      "text/plain": [
       "first_name                               0\n",
       "last_name                               29\n",
       "gender                                   0\n",
       "past_3_years_bike_related_purchases      0\n",
       "DOB                                     17\n",
       "job_title                              106\n",
       "job_industry_category                  165\n",
       "wealth_segment                           0\n",
       "deceased_indicator                       0\n",
       "owns_car                                 0\n",
       "tenure                                   0\n",
       "address                                  0\n",
       "postcode                                 0\n",
       "state                                    0\n",
       "country                                  0\n",
       "property_valuation                       0\n",
       "Unnamed: 16                              0\n",
       "Unnamed: 17                              0\n",
       "Unnamed: 18                              0\n",
       "Unnamed: 19                              0\n",
       "Unnamed: 20                              0\n",
       "Rank                                     0\n",
       "Value                                    0\n",
       "dtype: int64"
      ]
     },
     "execution_count": 83,
     "metadata": {},
     "output_type": "execute_result"
    }
   ],
   "source": [
    "# Check missing values for New Customers:\n",
    "new_custs.isnull().sum()"
   ]
  },
  {
   "cell_type": "code",
   "execution_count": 84,
   "metadata": {},
   "outputs": [
    {
     "data": {
      "text/plain": [
       "customer_id           0\n",
       "address               0\n",
       "postcode              0\n",
       "state                 0\n",
       "country               0\n",
       "property_valuation    0\n",
       "dtype: int64"
      ]
     },
     "execution_count": 84,
     "metadata": {},
     "output_type": "execute_result"
    }
   ],
   "source": [
    "# Check missing values for Address data:\n",
    "address.isnull().sum()"
   ]
  },
  {
   "cell_type": "markdown",
   "metadata": {},
   "source": [
    "### Summary for Missing Values:\n",
    " \n",
    "\n",
    "##### Customer Demographic:\n",
    " \n",
    "There are over 500 missing values in the job title and category columns, which is indicates that a lot of customers do not wish to provide their occupancy information. Potential reason could be privacy concerns. There are 125 missing values in the Last Name column, which showes some ambiguity in the customer identification and comparison to the transaction data. The Default column has 302 missing values and since most of the values in this column is not recognisable, the usefulness of it is suspected and the client is suggested to take a closer look at this feature to assess its accessability. There are also 87 missing values in the Tenure column which may of concern.\n",
    "\n",
    "\n",
    "##### Transaction:\n",
    "\n",
    "In the transaction data, there are 360 missing values in the Online_Order column, and the same number of missing values (197) in the Brand, Product Line, Product Class, Product Size, Standard Cost and Product First Sold Date columns, which indicates they are from the same transcation records. \n",
    "\n",
    "\n",
    "##### New Customers:\n",
    "\n",
    "In the New Customers data table, there are only 29 missing values in the Last Name column, while still over 100 missing values in the Job related columns. There are also 17 missing values in the Date of Birth (DOB) colum.\n",
    "\n",
    "\n",
    "##### Address:\n",
    "\n",
    "In the Address table, there is no missing value which indicates the data table is complete. "
   ]
  },
  {
   "cell_type": "markdown",
   "metadata": {},
   "source": [
    "## Data Accuracy Check"
   ]
  },
  {
   "cell_type": "markdown",
   "metadata": {},
   "source": [
    "### Customer Demographic"
   ]
  },
  {
   "cell_type": "code",
   "execution_count": 85,
   "metadata": {},
   "outputs": [
    {
     "name": "stdout",
     "output_type": "stream",
     "text": [
      "       customer_id  past_3_years_bike_related_purchases       tenure\n",
      "count  4000.000000                          4000.000000  3913.000000\n",
      "mean   2000.500000                            48.890000    10.657041\n",
      "std    1154.844867                            28.715005     5.660146\n",
      "min       1.000000                             0.000000     1.000000\n",
      "25%    1000.750000                            24.000000     6.000000\n",
      "50%    2000.500000                            48.000000    11.000000\n",
      "75%    3000.250000                            73.000000    15.000000\n",
      "max    4000.000000                            99.000000    22.000000\n"
     ]
    }
   ],
   "source": [
    "# Customer Demographic for numeric variables:\n",
    "print(customer_demo.describe())"
   ]
  },
  {
   "cell_type": "code",
   "execution_count": 86,
   "metadata": {},
   "outputs": [],
   "source": [
    "# Accuracy check for Categorical & Dates columns:\n",
    "\n",
    "# For Date of Birth Column:\n",
    "customer_demo.DOB = customer_demo.DOB.astype('datetime64[ns]')"
   ]
  },
  {
   "cell_type": "code",
   "execution_count": 87,
   "metadata": {},
   "outputs": [
    {
     "data": {
      "text/plain": [
       "count                    3913\n",
       "unique                   3448\n",
       "top       1978-01-30 00:00:00\n",
       "freq                        7\n",
       "first     1843-12-21 00:00:00\n",
       "last      2002-03-11 00:00:00\n",
       "Name: DOB, dtype: object"
      ]
     },
     "execution_count": 87,
     "metadata": {},
     "output_type": "execute_result"
    }
   ],
   "source": [
    "customer_demo.DOB.describe()"
   ]
  },
  {
   "cell_type": "code",
   "execution_count": 88,
   "metadata": {},
   "outputs": [
    {
     "name": "stdout",
     "output_type": "stream",
     "text": [
      "1\n"
     ]
    }
   ],
   "source": [
    "# Create a new column \"Age\" and take a look at the number of rows with age over 100 (which not make sense)\n",
    "from datetime import date, datetime\n",
    "customer_demo['age'] = datetime.now().year - customer_demo['DOB'].dt.year\n",
    "\n",
    "print(len(customer_demo[customer_demo['age'] > 100]))"
   ]
  },
  {
   "cell_type": "markdown",
   "metadata": {},
   "source": [
    "The first value \"1843-12-21\" is definitely not correct since the person could be nearly 200 years old. It could be 1943-12-21 instead. There seems only have one date with incorrect value"
   ]
  },
  {
   "cell_type": "code",
   "execution_count": 89,
   "metadata": {},
   "outputs": [
    {
     "data": {
      "text/plain": [
       "0"
      ]
     },
     "execution_count": 89,
     "metadata": {},
     "output_type": "execute_result"
    }
   ],
   "source": [
    "# Check for Duplicated Values:\n",
    "customer_demo.duplicated().sum()"
   ]
  },
  {
   "cell_type": "code",
   "execution_count": 90,
   "metadata": {},
   "outputs": [
    {
     "data": {
      "text/plain": [
       "array(['Male', 'Female', 'F', 'Femal', 'M', 'U'], dtype=object)"
      ]
     },
     "execution_count": 90,
     "metadata": {},
     "output_type": "execute_result"
    }
   ],
   "source": [
    "# Check unique values (there could be some expression issue in columns such as Gender or Owns_Car)\n",
    "\n",
    "# For Gender:\n",
    "customer_demo['gender'].unique()"
   ]
  },
  {
   "cell_type": "code",
   "execution_count": 91,
   "metadata": {},
   "outputs": [
    {
     "data": {
      "text/plain": [
       "array(['No', 'Yes'], dtype=object)"
      ]
     },
     "execution_count": 91,
     "metadata": {},
     "output_type": "execute_result"
    }
   ],
   "source": [
    "# For Owns_Car:\n",
    "customer_demo['owns_car'].unique()"
   ]
  },
  {
   "cell_type": "code",
   "execution_count": 92,
   "metadata": {},
   "outputs": [
    {
     "data": {
      "text/plain": [
       "array(['Affluent Customer', 'Mass Customer', 'High Net Worth'],\n",
       "      dtype=object)"
      ]
     },
     "execution_count": 92,
     "metadata": {},
     "output_type": "execute_result"
    }
   ],
   "source": [
    "# Wealth Segment:\n",
    "customer_demo['wealth_segment'].unique()"
   ]
  },
  {
   "cell_type": "markdown",
   "metadata": {},
   "source": [
    "In summary, the date of birth column in the customer demographic table has one incorrect value, and there are some expressions in the Gender columns need to be replaced with correct format. "
   ]
  },
  {
   "cell_type": "markdown",
   "metadata": {},
   "source": [
    "### Transaction"
   ]
  },
  {
   "cell_type": "code",
   "execution_count": 93,
   "metadata": {},
   "outputs": [
    {
     "data": {
      "text/plain": [
       "False"
      ]
     },
     "execution_count": 93,
     "metadata": {},
     "output_type": "execute_result"
    }
   ],
   "source": [
    "# Check duplication:\n",
    "trans.duplicated().sum().any()"
   ]
  },
  {
   "cell_type": "code",
   "execution_count": 94,
   "metadata": {},
   "outputs": [
    {
     "data": {
      "text/html": [
       "<div>\n",
       "<style scoped>\n",
       "    .dataframe tbody tr th:only-of-type {\n",
       "        vertical-align: middle;\n",
       "    }\n",
       "\n",
       "    .dataframe tbody tr th {\n",
       "        vertical-align: top;\n",
       "    }\n",
       "\n",
       "    .dataframe thead th {\n",
       "        text-align: right;\n",
       "    }\n",
       "</style>\n",
       "<table border=\"1\" class=\"dataframe\">\n",
       "  <thead>\n",
       "    <tr style=\"text-align: right;\">\n",
       "      <th></th>\n",
       "      <th>transaction_id</th>\n",
       "      <th>product_id</th>\n",
       "      <th>customer_id</th>\n",
       "      <th>online_order</th>\n",
       "      <th>list_price</th>\n",
       "      <th>standard_cost</th>\n",
       "      <th>product_first_sold_date</th>\n",
       "    </tr>\n",
       "  </thead>\n",
       "  <tbody>\n",
       "    <tr>\n",
       "      <th>count</th>\n",
       "      <td>20000.000000</td>\n",
       "      <td>20000.00000</td>\n",
       "      <td>20000.000000</td>\n",
       "      <td>19640.000000</td>\n",
       "      <td>20000.000000</td>\n",
       "      <td>19803.000000</td>\n",
       "      <td>19803.000000</td>\n",
       "    </tr>\n",
       "    <tr>\n",
       "      <th>mean</th>\n",
       "      <td>10000.500000</td>\n",
       "      <td>45.36465</td>\n",
       "      <td>1738.246050</td>\n",
       "      <td>0.500458</td>\n",
       "      <td>1107.829449</td>\n",
       "      <td>556.046951</td>\n",
       "      <td>38199.776549</td>\n",
       "    </tr>\n",
       "    <tr>\n",
       "      <th>std</th>\n",
       "      <td>5773.647028</td>\n",
       "      <td>30.75359</td>\n",
       "      <td>1011.951046</td>\n",
       "      <td>0.500013</td>\n",
       "      <td>582.825242</td>\n",
       "      <td>405.955660</td>\n",
       "      <td>2875.201110</td>\n",
       "    </tr>\n",
       "    <tr>\n",
       "      <th>min</th>\n",
       "      <td>1.000000</td>\n",
       "      <td>0.00000</td>\n",
       "      <td>1.000000</td>\n",
       "      <td>0.000000</td>\n",
       "      <td>12.010000</td>\n",
       "      <td>7.210000</td>\n",
       "      <td>33259.000000</td>\n",
       "    </tr>\n",
       "    <tr>\n",
       "      <th>25%</th>\n",
       "      <td>5000.750000</td>\n",
       "      <td>18.00000</td>\n",
       "      <td>857.750000</td>\n",
       "      <td>0.000000</td>\n",
       "      <td>575.270000</td>\n",
       "      <td>215.140000</td>\n",
       "      <td>35667.000000</td>\n",
       "    </tr>\n",
       "    <tr>\n",
       "      <th>50%</th>\n",
       "      <td>10000.500000</td>\n",
       "      <td>44.00000</td>\n",
       "      <td>1736.000000</td>\n",
       "      <td>1.000000</td>\n",
       "      <td>1163.890000</td>\n",
       "      <td>507.580000</td>\n",
       "      <td>38216.000000</td>\n",
       "    </tr>\n",
       "    <tr>\n",
       "      <th>75%</th>\n",
       "      <td>15000.250000</td>\n",
       "      <td>72.00000</td>\n",
       "      <td>2613.000000</td>\n",
       "      <td>1.000000</td>\n",
       "      <td>1635.300000</td>\n",
       "      <td>795.100000</td>\n",
       "      <td>40672.000000</td>\n",
       "    </tr>\n",
       "    <tr>\n",
       "      <th>max</th>\n",
       "      <td>20000.000000</td>\n",
       "      <td>100.00000</td>\n",
       "      <td>5034.000000</td>\n",
       "      <td>1.000000</td>\n",
       "      <td>2091.470000</td>\n",
       "      <td>1759.850000</td>\n",
       "      <td>42710.000000</td>\n",
       "    </tr>\n",
       "  </tbody>\n",
       "</table>\n",
       "</div>"
      ],
      "text/plain": [
       "       transaction_id   product_id   customer_id  online_order    list_price  \\\n",
       "count    20000.000000  20000.00000  20000.000000  19640.000000  20000.000000   \n",
       "mean     10000.500000     45.36465   1738.246050      0.500458   1107.829449   \n",
       "std       5773.647028     30.75359   1011.951046      0.500013    582.825242   \n",
       "min          1.000000      0.00000      1.000000      0.000000     12.010000   \n",
       "25%       5000.750000     18.00000    857.750000      0.000000    575.270000   \n",
       "50%      10000.500000     44.00000   1736.000000      1.000000   1163.890000   \n",
       "75%      15000.250000     72.00000   2613.000000      1.000000   1635.300000   \n",
       "max      20000.000000    100.00000   5034.000000      1.000000   2091.470000   \n",
       "\n",
       "       standard_cost  product_first_sold_date  \n",
       "count   19803.000000             19803.000000  \n",
       "mean      556.046951             38199.776549  \n",
       "std       405.955660              2875.201110  \n",
       "min         7.210000             33259.000000  \n",
       "25%       215.140000             35667.000000  \n",
       "50%       507.580000             38216.000000  \n",
       "75%       795.100000             40672.000000  \n",
       "max      1759.850000             42710.000000  "
      ]
     },
     "execution_count": 94,
     "metadata": {},
     "output_type": "execute_result"
    }
   ],
   "source": [
    "# Check numeric variables:\n",
    "trans.transaction_date = pd.to_datetime(trans.transaction_date, format = '%Y-%m-%d')\n",
    "\n",
    "trans.describe()"
   ]
  },
  {
   "cell_type": "code",
   "execution_count": 95,
   "metadata": {},
   "outputs": [
    {
     "data": {
      "text/plain": [
       "<matplotlib.axes._subplots.AxesSubplot at 0x7fd4469f2fd0>"
      ]
     },
     "execution_count": 95,
     "metadata": {},
     "output_type": "execute_result"
    },
    {
     "data": {
      "image/png": "[encoded data removed]",
      "text/plain": [
       "<Figure size 432x288 with 1 Axes>"
      ]
     },
     "metadata": {
      "needs_background": "light"
     },
     "output_type": "display_data"
    }
   ],
   "source": [
    "# Check Categorical variables:\n",
    "\n",
    "# Order Status\n",
    "trans.order_status.value_counts().plot(kind = 'bar')"
   ]
  },
  {
   "cell_type": "code",
   "execution_count": 96,
   "metadata": {},
   "outputs": [
    {
     "data": {
      "text/plain": [
       "<matplotlib.axes._subplots.AxesSubplot at 0x7fd449128160>"
      ]
     },
     "execution_count": 96,
     "metadata": {},
     "output_type": "execute_result"
    },
    {
     "data": {
      "image/png": "[encoded data removed]",
      "text/plain": [
       "<Figure size 432x288 with 1 Axes>"
      ]
     },
     "metadata": {
      "needs_background": "light"
     },
     "output_type": "display_data"
    }
   ],
   "source": [
    "# Brand:\n",
    "trans.brand.value_counts().plot(kind = 'bar')"
   ]
  },
  {
   "cell_type": "code",
   "execution_count": 97,
   "metadata": {},
   "outputs": [
    {
     "data": {
      "text/plain": [
       "<matplotlib.axes._subplots.AxesSubplot at 0x7fd448ccfbb0>"
      ]
     },
     "execution_count": 97,
     "metadata": {},
     "output_type": "execute_result"
    },
    {
     "data": {
      "image/png": "[encoded data removed]",
      "text/plain": [
       "<Figure size 432x288 with 1 Axes>"
      ]
     },
     "metadata": {
      "needs_background": "light"
     },
     "output_type": "display_data"
    }
   ],
   "source": [
    "# product line:\n",
    "trans.product_line.value_counts().plot(kind = 'bar')"
   ]
  },
  {
   "cell_type": "code",
   "execution_count": 98,
   "metadata": {},
   "outputs": [
    {
     "data": {
      "text/plain": [
       "<matplotlib.axes._subplots.AxesSubplot at 0x7fd446763ac0>"
      ]
     },
     "execution_count": 98,
     "metadata": {},
     "output_type": "execute_result"
    },
    {
     "data": {
      "image/png": "[encoded data removed]",
      "text/plain": [
       "<Figure size 432x288 with 1 Axes>"
      ]
     },
     "metadata": {
      "needs_background": "light"
     },
     "output_type": "display_data"
    }
   ],
   "source": [
    "# product category:\n",
    "trans.product_class.value_counts().plot(kind = 'bar')"
   ]
  },
  {
   "cell_type": "code",
   "execution_count": 99,
   "metadata": {},
   "outputs": [
    {
     "data": {
      "text/plain": [
       "<matplotlib.axes._subplots.AxesSubplot at 0x7fd448ca6100>"
      ]
     },
     "execution_count": 99,
     "metadata": {},
     "output_type": "execute_result"
    },
    {
     "data": {
      "image/png": "[encoded data removed]",
      "text/plain": [
       "<Figure size 432x288 with 1 Axes>"
      ]
     },
     "metadata": {
      "needs_background": "light"
     },
     "output_type": "display_data"
    }
   ],
   "source": [
    "# product size:\n",
    "trans.product_size.value_counts().plot(kind = 'bar')"
   ]
  },
  {
   "cell_type": "markdown",
   "metadata": {},
   "source": [
    "In summary, the numeric and categorical variables in the Transaction table seems good without incorrect expressions, extreme values or duplications. The distribution of categorical variables are looking good. The whole table seems well on accuracy. Next, it comes to the accuracy check of the New Customer data"
   ]
  },
  {
   "cell_type": "markdown",
   "metadata": {},
   "source": [
    "### New Customers"
   ]
  },
  {
   "cell_type": "code",
   "execution_count": 100,
   "metadata": {},
   "outputs": [
    {
     "data": {
      "text/html": [
       "<div>\n",
       "<style scoped>\n",
       "    .dataframe tbody tr th:only-of-type {\n",
       "        vertical-align: middle;\n",
       "    }\n",
       "\n",
       "    .dataframe tbody tr th {\n",
       "        vertical-align: top;\n",
       "    }\n",
       "\n",
       "    .dataframe thead th {\n",
       "        text-align: right;\n",
       "    }\n",
       "</style>\n",
       "<table border=\"1\" class=\"dataframe\">\n",
       "  <thead>\n",
       "    <tr style=\"text-align: right;\">\n",
       "      <th></th>\n",
       "      <th>first_name</th>\n",
       "      <th>last_name</th>\n",
       "      <th>gender</th>\n",
       "      <th>past_3_years_bike_related_purchases</th>\n",
       "      <th>DOB</th>\n",
       "      <th>job_title</th>\n",
       "      <th>job_industry_category</th>\n",
       "      <th>wealth_segment</th>\n",
       "      <th>deceased_indicator</th>\n",
       "      <th>owns_car</th>\n",
       "      <th>...</th>\n",
       "      <th>state</th>\n",
       "      <th>country</th>\n",
       "      <th>property_valuation</th>\n",
       "      <th>Unnamed: 16</th>\n",
       "      <th>Unnamed: 17</th>\n",
       "      <th>Unnamed: 18</th>\n",
       "      <th>Unnamed: 19</th>\n",
       "      <th>Unnamed: 20</th>\n",
       "      <th>Rank</th>\n",
       "      <th>Value</th>\n",
       "    </tr>\n",
       "  </thead>\n",
       "  <tbody>\n",
       "    <tr>\n",
       "      <th>0</th>\n",
       "      <td>Chickie</td>\n",
       "      <td>Brister</td>\n",
       "      <td>Male</td>\n",
       "      <td>86</td>\n",
       "      <td>1957-07-12</td>\n",
       "      <td>General Manager</td>\n",
       "      <td>Manufacturing</td>\n",
       "      <td>Mass Customer</td>\n",
       "      <td>N</td>\n",
       "      <td>Yes</td>\n",
       "      <td>...</td>\n",
       "      <td>QLD</td>\n",
       "      <td>Australia</td>\n",
       "      <td>6</td>\n",
       "      <td>0.76</td>\n",
       "      <td>0.9500</td>\n",
       "      <td>1.1875</td>\n",
       "      <td>1.009375</td>\n",
       "      <td>1</td>\n",
       "      <td>1</td>\n",
       "      <td>1.718750</td>\n",
       "    </tr>\n",
       "    <tr>\n",
       "      <th>1</th>\n",
       "      <td>Morly</td>\n",
       "      <td>Genery</td>\n",
       "      <td>Male</td>\n",
       "      <td>69</td>\n",
       "      <td>1970-03-22</td>\n",
       "      <td>Structural Engineer</td>\n",
       "      <td>Property</td>\n",
       "      <td>Mass Customer</td>\n",
       "      <td>N</td>\n",
       "      <td>No</td>\n",
       "      <td>...</td>\n",
       "      <td>NSW</td>\n",
       "      <td>Australia</td>\n",
       "      <td>11</td>\n",
       "      <td>0.76</td>\n",
       "      <td>0.7600</td>\n",
       "      <td>0.9500</td>\n",
       "      <td>0.807500</td>\n",
       "      <td>1</td>\n",
       "      <td>1</td>\n",
       "      <td>1.718750</td>\n",
       "    </tr>\n",
       "    <tr>\n",
       "      <th>2</th>\n",
       "      <td>Ardelis</td>\n",
       "      <td>Forrester</td>\n",
       "      <td>Female</td>\n",
       "      <td>10</td>\n",
       "      <td>1974-08-28</td>\n",
       "      <td>Senior Cost Accountant</td>\n",
       "      <td>Financial Services</td>\n",
       "      <td>Affluent Customer</td>\n",
       "      <td>N</td>\n",
       "      <td>No</td>\n",
       "      <td>...</td>\n",
       "      <td>VIC</td>\n",
       "      <td>Australia</td>\n",
       "      <td>5</td>\n",
       "      <td>0.84</td>\n",
       "      <td>0.8400</td>\n",
       "      <td>0.8400</td>\n",
       "      <td>0.840000</td>\n",
       "      <td>1</td>\n",
       "      <td>1</td>\n",
       "      <td>1.718750</td>\n",
       "    </tr>\n",
       "    <tr>\n",
       "      <th>3</th>\n",
       "      <td>Lucine</td>\n",
       "      <td>Stutt</td>\n",
       "      <td>Female</td>\n",
       "      <td>64</td>\n",
       "      <td>1979-01-28</td>\n",
       "      <td>Account Representative III</td>\n",
       "      <td>Manufacturing</td>\n",
       "      <td>Affluent Customer</td>\n",
       "      <td>N</td>\n",
       "      <td>Yes</td>\n",
       "      <td>...</td>\n",
       "      <td>QLD</td>\n",
       "      <td>Australia</td>\n",
       "      <td>1</td>\n",
       "      <td>0.45</td>\n",
       "      <td>0.5625</td>\n",
       "      <td>0.5625</td>\n",
       "      <td>0.562500</td>\n",
       "      <td>4</td>\n",
       "      <td>4</td>\n",
       "      <td>1.703125</td>\n",
       "    </tr>\n",
       "    <tr>\n",
       "      <th>4</th>\n",
       "      <td>Melinda</td>\n",
       "      <td>Hadlee</td>\n",
       "      <td>Female</td>\n",
       "      <td>34</td>\n",
       "      <td>1965-09-21</td>\n",
       "      <td>Financial Analyst</td>\n",
       "      <td>Financial Services</td>\n",
       "      <td>Affluent Customer</td>\n",
       "      <td>N</td>\n",
       "      <td>No</td>\n",
       "      <td>...</td>\n",
       "      <td>NSW</td>\n",
       "      <td>Australia</td>\n",
       "      <td>9</td>\n",
       "      <td>0.93</td>\n",
       "      <td>0.9300</td>\n",
       "      <td>1.1625</td>\n",
       "      <td>1.162500</td>\n",
       "      <td>4</td>\n",
       "      <td>4</td>\n",
       "      <td>1.703125</td>\n",
       "    </tr>\n",
       "  </tbody>\n",
       "</table>\n",
       "<p>5 rows × 23 columns</p>\n",
       "</div>"
      ],
      "text/plain": [
       "  first_name  last_name  gender  past_3_years_bike_related_purchases  \\\n",
       "0    Chickie    Brister    Male                                   86   \n",
       "1      Morly     Genery    Male                                   69   \n",
       "2    Ardelis  Forrester  Female                                   10   \n",
       "3     Lucine      Stutt  Female                                   64   \n",
       "4    Melinda     Hadlee  Female                                   34   \n",
       "\n",
       "         DOB                   job_title job_industry_category  \\\n",
       "0 1957-07-12             General Manager         Manufacturing   \n",
       "1 1970-03-22         Structural Engineer              Property   \n",
       "2 1974-08-28      Senior Cost Accountant    Financial Services   \n",
       "3 1979-01-28  Account Representative III         Manufacturing   \n",
       "4 1965-09-21           Financial Analyst    Financial Services   \n",
       "\n",
       "      wealth_segment deceased_indicator owns_car  ...  state    country  \\\n",
       "0      Mass Customer                  N      Yes  ...    QLD  Australia   \n",
       "1      Mass Customer                  N       No  ...    NSW  Australia   \n",
       "2  Affluent Customer                  N       No  ...    VIC  Australia   \n",
       "3  Affluent Customer                  N      Yes  ...    QLD  Australia   \n",
       "4  Affluent Customer                  N       No  ...    NSW  Australia   \n",
       "\n",
       "   property_valuation Unnamed: 16 Unnamed: 17  Unnamed: 18  Unnamed: 19  \\\n",
       "0                   6        0.76      0.9500       1.1875     1.009375   \n",
       "1                  11        0.76      0.7600       0.9500     0.807500   \n",
       "2                   5        0.84      0.8400       0.8400     0.840000   \n",
       "3                   1        0.45      0.5625       0.5625     0.562500   \n",
       "4                   9        0.93      0.9300       1.1625     1.162500   \n",
       "\n",
       "   Unnamed: 20  Rank     Value  \n",
       "0            1     1  1.718750  \n",
       "1            1     1  1.718750  \n",
       "2            1     1  1.718750  \n",
       "3            4     4  1.703125  \n",
       "4            4     4  1.703125  \n",
       "\n",
       "[5 rows x 23 columns]"
      ]
     },
     "execution_count": 100,
     "metadata": {},
     "output_type": "execute_result"
    }
   ],
   "source": [
    "new_custs.head()"
   ]
  },
  {
   "cell_type": "code",
   "execution_count": 101,
   "metadata": {},
   "outputs": [
    {
     "data": {
      "text/html": [
       "<div>\n",
       "<style scoped>\n",
       "    .dataframe tbody tr th:only-of-type {\n",
       "        vertical-align: middle;\n",
       "    }\n",
       "\n",
       "    .dataframe tbody tr th {\n",
       "        vertical-align: top;\n",
       "    }\n",
       "\n",
       "    .dataframe thead th {\n",
       "        text-align: right;\n",
       "    }\n",
       "</style>\n",
       "<table border=\"1\" class=\"dataframe\">\n",
       "  <thead>\n",
       "    <tr style=\"text-align: right;\">\n",
       "      <th></th>\n",
       "      <th>past_3_years_bike_related_purchases</th>\n",
       "      <th>tenure</th>\n",
       "      <th>postcode</th>\n",
       "      <th>property_valuation</th>\n",
       "      <th>Unnamed: 16</th>\n",
       "      <th>Unnamed: 17</th>\n",
       "      <th>Unnamed: 18</th>\n",
       "      <th>Unnamed: 19</th>\n",
       "      <th>Unnamed: 20</th>\n",
       "      <th>Rank</th>\n",
       "      <th>Value</th>\n",
       "    </tr>\n",
       "  </thead>\n",
       "  <tbody>\n",
       "    <tr>\n",
       "      <th>count</th>\n",
       "      <td>1000.000000</td>\n",
       "      <td>1000.000000</td>\n",
       "      <td>1000.000000</td>\n",
       "      <td>1000.000000</td>\n",
       "      <td>1000.000000</td>\n",
       "      <td>1000.000000</td>\n",
       "      <td>1000.000000</td>\n",
       "      <td>1000.000000</td>\n",
       "      <td>1000.000000</td>\n",
       "      <td>1000.000000</td>\n",
       "      <td>1000.000000</td>\n",
       "    </tr>\n",
       "    <tr>\n",
       "      <th>mean</th>\n",
       "      <td>49.836000</td>\n",
       "      <td>11.388000</td>\n",
       "      <td>3019.227000</td>\n",
       "      <td>7.397000</td>\n",
       "      <td>0.738400</td>\n",
       "      <td>0.829840</td>\n",
       "      <td>0.931426</td>\n",
       "      <td>0.861111</td>\n",
       "      <td>498.819000</td>\n",
       "      <td>498.819000</td>\n",
       "      <td>0.881714</td>\n",
       "    </tr>\n",
       "    <tr>\n",
       "      <th>std</th>\n",
       "      <td>27.796686</td>\n",
       "      <td>5.037145</td>\n",
       "      <td>848.895767</td>\n",
       "      <td>2.758804</td>\n",
       "      <td>0.206028</td>\n",
       "      <td>0.251762</td>\n",
       "      <td>0.292789</td>\n",
       "      <td>0.282542</td>\n",
       "      <td>288.810997</td>\n",
       "      <td>288.810997</td>\n",
       "      <td>0.293525</td>\n",
       "    </tr>\n",
       "    <tr>\n",
       "      <th>min</th>\n",
       "      <td>0.000000</td>\n",
       "      <td>0.000000</td>\n",
       "      <td>2000.000000</td>\n",
       "      <td>1.000000</td>\n",
       "      <td>0.400000</td>\n",
       "      <td>0.400000</td>\n",
       "      <td>0.400000</td>\n",
       "      <td>0.340000</td>\n",
       "      <td>1.000000</td>\n",
       "      <td>1.000000</td>\n",
       "      <td>0.340000</td>\n",
       "    </tr>\n",
       "    <tr>\n",
       "      <th>25%</th>\n",
       "      <td>26.750000</td>\n",
       "      <td>7.000000</td>\n",
       "      <td>2209.000000</td>\n",
       "      <td>6.000000</td>\n",
       "      <td>0.560000</td>\n",
       "      <td>0.620000</td>\n",
       "      <td>0.690000</td>\n",
       "      <td>0.625000</td>\n",
       "      <td>250.000000</td>\n",
       "      <td>250.000000</td>\n",
       "      <td>0.649531</td>\n",
       "    </tr>\n",
       "    <tr>\n",
       "      <th>50%</th>\n",
       "      <td>51.000000</td>\n",
       "      <td>11.000000</td>\n",
       "      <td>2800.000000</td>\n",
       "      <td>8.000000</td>\n",
       "      <td>0.735000</td>\n",
       "      <td>0.820000</td>\n",
       "      <td>0.921875</td>\n",
       "      <td>0.850000</td>\n",
       "      <td>500.000000</td>\n",
       "      <td>500.000000</td>\n",
       "      <td>0.860000</td>\n",
       "    </tr>\n",
       "    <tr>\n",
       "      <th>75%</th>\n",
       "      <td>72.000000</td>\n",
       "      <td>15.000000</td>\n",
       "      <td>3845.500000</td>\n",
       "      <td>9.000000</td>\n",
       "      <td>0.910000</td>\n",
       "      <td>1.025000</td>\n",
       "      <td>1.125000</td>\n",
       "      <td>1.050000</td>\n",
       "      <td>750.250000</td>\n",
       "      <td>750.250000</td>\n",
       "      <td>1.075000</td>\n",
       "    </tr>\n",
       "    <tr>\n",
       "      <th>max</th>\n",
       "      <td>99.000000</td>\n",
       "      <td>22.000000</td>\n",
       "      <td>4879.000000</td>\n",
       "      <td>12.000000</td>\n",
       "      <td>1.100000</td>\n",
       "      <td>1.375000</td>\n",
       "      <td>1.703125</td>\n",
       "      <td>1.703125</td>\n",
       "      <td>1000.000000</td>\n",
       "      <td>1000.000000</td>\n",
       "      <td>1.718750</td>\n",
       "    </tr>\n",
       "  </tbody>\n",
       "</table>\n",
       "</div>"
      ],
      "text/plain": [
       "       past_3_years_bike_related_purchases       tenure     postcode  \\\n",
       "count                          1000.000000  1000.000000  1000.000000   \n",
       "mean                             49.836000    11.388000  3019.227000   \n",
       "std                              27.796686     5.037145   848.895767   \n",
       "min                               0.000000     0.000000  2000.000000   \n",
       "25%                              26.750000     7.000000  2209.000000   \n",
       "50%                              51.000000    11.000000  2800.000000   \n",
       "75%                              72.000000    15.000000  3845.500000   \n",
       "max                              99.000000    22.000000  4879.000000   \n",
       "\n",
       "       property_valuation  Unnamed: 16  Unnamed: 17  Unnamed: 18  Unnamed: 19  \\\n",
       "count         1000.000000  1000.000000  1000.000000  1000.000000  1000.000000   \n",
       "mean             7.397000     0.738400     0.829840     0.931426     0.861111   \n",
       "std              2.758804     0.206028     0.251762     0.292789     0.282542   \n",
       "min              1.000000     0.400000     0.400000     0.400000     0.340000   \n",
       "25%              6.000000     0.560000     0.620000     0.690000     0.625000   \n",
       "50%              8.000000     0.735000     0.820000     0.921875     0.850000   \n",
       "75%              9.000000     0.910000     1.025000     1.125000     1.050000   \n",
       "max             12.000000     1.100000     1.375000     1.703125     1.703125   \n",
       "\n",
       "       Unnamed: 20         Rank        Value  \n",
       "count  1000.000000  1000.000000  1000.000000  \n",
       "mean    498.819000   498.819000     0.881714  \n",
       "std     288.810997   288.810997     0.293525  \n",
       "min       1.000000     1.000000     0.340000  \n",
       "25%     250.000000   250.000000     0.649531  \n",
       "50%     500.000000   500.000000     0.860000  \n",
       "75%     750.250000   750.250000     1.075000  \n",
       "max    1000.000000  1000.000000     1.718750  "
      ]
     },
     "execution_count": 101,
     "metadata": {},
     "output_type": "execute_result"
    }
   ],
   "source": [
    "# Print out the summary statistics for numeric columns:\n",
    "new_custs.describe()"
   ]
  },
  {
   "cell_type": "code",
   "execution_count": 102,
   "metadata": {},
   "outputs": [
    {
     "data": {
      "text/plain": [
       "False"
      ]
     },
     "execution_count": 102,
     "metadata": {},
     "output_type": "execute_result"
    }
   ],
   "source": [
    "# Check duplication\n",
    "new_custs.duplicated().sum().any()"
   ]
  },
  {
   "cell_type": "code",
   "execution_count": 103,
   "metadata": {},
   "outputs": [
    {
     "data": {
      "text/plain": [
       "count                     983\n",
       "unique                    958\n",
       "top       1961-07-31 00:00:00\n",
       "freq                        2\n",
       "first     1938-06-08 00:00:00\n",
       "last      2002-02-27 00:00:00\n",
       "Name: DOB, dtype: object"
      ]
     },
     "execution_count": 103,
     "metadata": {},
     "output_type": "execute_result"
    }
   ],
   "source": [
    "# Check for some categorical and date variables:\n",
    "\n",
    "# DOB\n",
    "new_custs.DOB.describe()"
   ]
  },
  {
   "cell_type": "code",
   "execution_count": 104,
   "metadata": {},
   "outputs": [
    {
     "data": {
      "text/plain": [
       "Female    513\n",
       "Male      470\n",
       "U          17\n",
       "Name: gender, dtype: int64"
      ]
     },
     "execution_count": 104,
     "metadata": {},
     "output_type": "execute_result"
    }
   ],
   "source": [
    "# Check the expressions in the Gender column:\n",
    "new_custs.gender.value_counts()"
   ]
  },
  {
   "cell_type": "code",
   "execution_count": 105,
   "metadata": {},
   "outputs": [
    {
     "data": {
      "text/plain": [
       "array(['General Manager', 'Structural Engineer', 'Senior Cost Accountant',\n",
       "       'Account Representative III', 'Financial Analyst',\n",
       "       'Assistant Media Planner', 'Compensation Analyst',\n",
       "       'Human Resources Assistant II', 'Speech Pathologist',\n",
       "       'Accounting Assistant IV', 'Programmer Analyst I',\n",
       "       'Environmental Specialist', 'Human Resources Manager',\n",
       "       'VP Marketing', 'Clinical Specialist', nan, 'Associate Professor',\n",
       "       'Actuary', 'Internal Auditor', 'Programmer I', 'Quality Engineer',\n",
       "       'Quality Control Specialist', 'Account Executive', 'Engineer II',\n",
       "       'Nurse', 'Librarian', 'Paralegal', 'Assistant Manager',\n",
       "       'Senior Quality Engineer', 'Recruiting Manager', 'Design Engineer',\n",
       "       'Business Systems Development Analyst', 'VP Quality Control',\n",
       "       'Cost Accountant', 'Product Engineer', 'Social Worker',\n",
       "       'Payment Adjustment Coordinator', 'Marketing Assistant',\n",
       "       'Recruiter', 'VP Product Management', 'Media Manager III',\n",
       "       'Developer I', 'Senior Financial Analyst', 'Electrical Engineer',\n",
       "       'Accountant IV', 'Executive Secretary', 'Account Representative I',\n",
       "       'Dental Hygienist', 'GIS Technical Architect',\n",
       "       'Assistant Professor', 'Mechanical Systems Engineer',\n",
       "       'Budget/Accounting Analyst IV', 'Research Nurse',\n",
       "       'Computer Systems Analyst IV', 'Analyst Programmer',\n",
       "       'Desktop Support Technician', 'Editor', 'Biostatistician IV',\n",
       "       'Database Administrator III', 'Engineer III',\n",
       "       'Physical Therapy Assistant', 'Director of Sales', 'Teacher',\n",
       "       'Human Resources Assistant IV', 'Nurse Practicioner',\n",
       "       'Structural Analysis Engineer', 'Marketing Manager',\n",
       "       'Staff Accountant IV', 'VP Sales', 'Accountant III',\n",
       "       'Sales Representative', 'Food Chemist', 'Staff Scientist',\n",
       "       'Geologist IV', 'Information Systems Manager', 'Junior Executive',\n",
       "       'Automation Specialist II', 'Software Consultant',\n",
       "       'Civil Engineer', 'Geological Engineer', 'Graphic Designer',\n",
       "       'Staff Accountant II', 'Community Outreach Specialist',\n",
       "       'Programmer Analyst II', 'Pharmacist', 'Senior Editor',\n",
       "       'Sales Associate', 'Developer II', 'Staff Accountant I',\n",
       "       'Environmental Tech', 'Account Coordinator', 'Health Coach II',\n",
       "       'Programmer Analyst III', 'Geologist III', 'Senior Developer',\n",
       "       'Account Representative II', 'Help Desk Technician',\n",
       "       'Research Assistant IV', 'Research Associate',\n",
       "       'Computer Systems Analyst I', 'Account Representative IV',\n",
       "       'Safety Technician I', 'Analog Circuit Design manager',\n",
       "       'Senior Sales Associate', 'Research Assistant II',\n",
       "       'Chief Design Engineer', 'Legal Assistant',\n",
       "       'Occupational Therapist', 'Statistician I', 'Technical Writer',\n",
       "       'Health Coach IV', 'Media Manager II', 'Professor',\n",
       "       'Safety Technician II', 'Software Test Engineer IV',\n",
       "       'Nuclear Power Engineer', 'Software Engineer II', 'Engineer IV',\n",
       "       'Database Administrator II', 'Chemical Engineer',\n",
       "       'Office Assistant II', 'Database Administrator I',\n",
       "       'Research Assistant I', 'Financial Advisor',\n",
       "       'Systems Administrator I', 'Systems Administrator IV', 'Operator',\n",
       "       'Office Assistant I', 'Software Engineer I', 'Programmer III',\n",
       "       'Media Manager I', 'Data Coordiator', 'Web Developer IV',\n",
       "       'Registered Nurse', 'Media Manager IV', 'Programmer II',\n",
       "       'Computer Systems Analyst II', 'Web Designer I',\n",
       "       'Human Resources Assistant I', 'Help Desk Operator',\n",
       "       'Systems Administrator III', 'Software Engineer III',\n",
       "       'Developer IV', 'Tax Accountant', 'Automation Specialist IV',\n",
       "       'VP Accounting', 'Accountant II', 'Administrative Assistant II',\n",
       "       'Programmer IV', 'Web Designer IV', 'Administrative Officer',\n",
       "       'Office Assistant IV', 'Accounting Assistant III',\n",
       "       'Accounting Assistant I', 'Research Assistant III',\n",
       "       'Web Developer II', 'Statistician III', 'Programmer Analyst IV',\n",
       "       'Accountant I', 'Project Manager', 'Budget/Accounting Analyst II',\n",
       "       'Automation Specialist III', 'Administrative Assistant I',\n",
       "       'Engineer I', 'Health Coach III', 'Statistician II',\n",
       "       'Developer III', 'Accounting Assistant II',\n",
       "       'Database Administrator IV', 'Budget/Accounting Analyst III',\n",
       "       'Software Test Engineer I', 'Health Coach I',\n",
       "       'Safety Technician IV', 'Computer Systems Analyst III',\n",
       "       'Budget/Accounting Analyst I', 'Staff Accountant III',\n",
       "       'Human Resources Assistant III', 'Statistician IV',\n",
       "       'Automation Specialist I', 'Systems Administrator II',\n",
       "       'Software Test Engineer II', 'Software Test Engineer III',\n",
       "       'Geologist I', 'Web Designer II', 'Web Developer I'], dtype=object)"
      ]
     },
     "execution_count": 105,
     "metadata": {},
     "output_type": "execute_result"
    }
   ],
   "source": [
    "# Check job title:\n",
    "new_custs.job_title.unique()"
   ]
  },
  {
   "cell_type": "code",
   "execution_count": 106,
   "metadata": {},
   "outputs": [
    {
     "data": {
      "text/plain": [
       "<matplotlib.axes._subplots.AxesSubplot at 0x7fd448f61d00>"
      ]
     },
     "execution_count": 106,
     "metadata": {},
     "output_type": "execute_result"
    },
    {
     "data": {
      "image/png": "[encoded data removed]",
      "text/plain": [
       "<Figure size 432x288 with 1 Axes>"
      ]
     },
     "metadata": {
      "needs_background": "light"
     },
     "output_type": "display_data"
    }
   ],
   "source": [
    "# Check job industry category:\n",
    "new_custs.job_industry_category.value_counts().plot(kind = 'bar')"
   ]
  },
  {
   "cell_type": "code",
   "execution_count": 107,
   "metadata": {},
   "outputs": [
    {
     "data": {
      "text/plain": [
       "<matplotlib.axes._subplots.AxesSubplot at 0x7fd44995a4f0>"
      ]
     },
     "execution_count": 107,
     "metadata": {},
     "output_type": "execute_result"
    },
    {
     "data": {
      "image/png": "[encoded data removed]",
      "text/plain": [
       "<Figure size 432x288 with 1 Axes>"
      ]
     },
     "metadata": {
      "needs_background": "light"
     },
     "output_type": "display_data"
    }
   ],
   "source": [
    "# Check wealth segment:\n",
    "new_custs.wealth_segment.value_counts().plot(kind = 'bar')"
   ]
  },
  {
   "cell_type": "code",
   "execution_count": 108,
   "metadata": {},
   "outputs": [
    {
     "data": {
      "text/plain": [
       "N    1000\n",
       "Name: deceased_indicator, dtype: int64"
      ]
     },
     "execution_count": 108,
     "metadata": {},
     "output_type": "execute_result"
    }
   ],
   "source": [
    "# Check deceased indicator\n",
    "new_custs.deceased_indicator.value_counts()"
   ]
  },
  {
   "cell_type": "code",
   "execution_count": 109,
   "metadata": {},
   "outputs": [
    {
     "data": {
      "text/plain": [
       "<matplotlib.axes._subplots.AxesSubplot at 0x7fd449c2b550>"
      ]
     },
     "execution_count": 109,
     "metadata": {},
     "output_type": "execute_result"
    },
    {
     "data": {
      "image/png": "[encoded data removed]",
      "text/plain": [
       "<Figure size 432x288 with 1 Axes>"
      ]
     },
     "metadata": {
      "needs_background": "light"
     },
     "output_type": "display_data"
    }
   ],
   "source": [
    "# Check owns car:\n",
    "new_custs.owns_car.value_counts().plot(kind = 'bar')"
   ]
  },
  {
   "cell_type": "code",
   "execution_count": 110,
   "metadata": {},
   "outputs": [
    {
     "data": {
      "text/plain": [
       "<matplotlib.axes._subplots.AxesSubplot at 0x7fd448cde5e0>"
      ]
     },
     "execution_count": 110,
     "metadata": {},
     "output_type": "execute_result"
    },
    {
     "data": {
      "image/png": "[encoded data removed]",
      "text/plain": [
       "<Figure size 432x288 with 1 Axes>"
      ]
     },
     "metadata": {
      "needs_background": "light"
     },
     "output_type": "display_data"
    }
   ],
   "source": [
    "# Check state:\n",
    "new_custs.state.value_counts().plot(kind = 'bar')"
   ]
  },
  {
   "cell_type": "code",
   "execution_count": 111,
   "metadata": {},
   "outputs": [
    {
     "data": {
      "text/plain": [
       "Australia    1000\n",
       "Name: country, dtype: int64"
      ]
     },
     "execution_count": 111,
     "metadata": {},
     "output_type": "execute_result"
    }
   ],
   "source": [
    "# Check country:\n",
    "new_custs.country.value_counts()"
   ]
  },
  {
   "cell_type": "code",
   "execution_count": 112,
   "metadata": {},
   "outputs": [
    {
     "data": {
      "text/plain": [
       "<matplotlib.axes._subplots.AxesSubplot at 0x7fd445fa54f0>"
      ]
     },
     "execution_count": 112,
     "metadata": {},
     "output_type": "execute_result"
    },
    {
     "data": {
      "image/png": "[encoded data removed]",
      "text/plain": [
       "<Figure size 648x432 with 1 Axes>"
      ]
     },
     "metadata": {
      "needs_background": "light"
     },
     "output_type": "display_data"
    }
   ],
   "source": [
    "# Take a look at the Unnamed columns:\n",
    "columns = ['Unnamed: 16','Unnamed: 17','Unnamed: 18','Unnamed: 19']\n",
    "new_custs[columns].plot(figsize = (9,6))"
   ]
  },
  {
   "cell_type": "markdown",
   "metadata": {},
   "source": [
    "In summary, the data table do not have duplication rows and most of the values in the numerical variables seems correct, while there are four unnamed columns with randomalized values should be more considered as their future's productivity. For categorical variables, in the Gender column, there are 17 rows having 'U' ('Unknown') which may need to be adjusted to correct value. The other categorical variables in the table seems make sense and accurate. "
   ]
  },
  {
   "cell_type": "markdown",
   "metadata": {},
   "source": [
    "### Address"
   ]
  },
  {
   "cell_type": "code",
   "execution_count": 113,
   "metadata": {},
   "outputs": [
    {
     "data": {
      "text/html": [
       "<div>\n",
       "<style scoped>\n",
       "    .dataframe tbody tr th:only-of-type {\n",
       "        vertical-align: middle;\n",
       "    }\n",
       "\n",
       "    .dataframe tbody tr th {\n",
       "        vertical-align: top;\n",
       "    }\n",
       "\n",
       "    .dataframe thead th {\n",
       "        text-align: right;\n",
       "    }\n",
       "</style>\n",
       "<table border=\"1\" class=\"dataframe\">\n",
       "  <thead>\n",
       "    <tr style=\"text-align: right;\">\n",
       "      <th></th>\n",
       "      <th>customer_id</th>\n",
       "      <th>address</th>\n",
       "      <th>postcode</th>\n",
       "      <th>state</th>\n",
       "      <th>country</th>\n",
       "      <th>property_valuation</th>\n",
       "    </tr>\n",
       "  </thead>\n",
       "  <tbody>\n",
       "    <tr>\n",
       "      <th>0</th>\n",
       "      <td>1</td>\n",
       "      <td>060 Morning Avenue</td>\n",
       "      <td>2016</td>\n",
       "      <td>New South Wales</td>\n",
       "      <td>Australia</td>\n",
       "      <td>10</td>\n",
       "    </tr>\n",
       "    <tr>\n",
       "      <th>1</th>\n",
       "      <td>2</td>\n",
       "      <td>6 Meadow Vale Court</td>\n",
       "      <td>2153</td>\n",
       "      <td>New South Wales</td>\n",
       "      <td>Australia</td>\n",
       "      <td>10</td>\n",
       "    </tr>\n",
       "    <tr>\n",
       "      <th>2</th>\n",
       "      <td>4</td>\n",
       "      <td>0 Holy Cross Court</td>\n",
       "      <td>4211</td>\n",
       "      <td>QLD</td>\n",
       "      <td>Australia</td>\n",
       "      <td>9</td>\n",
       "    </tr>\n",
       "    <tr>\n",
       "      <th>3</th>\n",
       "      <td>5</td>\n",
       "      <td>17979 Del Mar Point</td>\n",
       "      <td>2448</td>\n",
       "      <td>New South Wales</td>\n",
       "      <td>Australia</td>\n",
       "      <td>4</td>\n",
       "    </tr>\n",
       "    <tr>\n",
       "      <th>4</th>\n",
       "      <td>6</td>\n",
       "      <td>9 Oakridge Court</td>\n",
       "      <td>3216</td>\n",
       "      <td>VIC</td>\n",
       "      <td>Australia</td>\n",
       "      <td>9</td>\n",
       "    </tr>\n",
       "  </tbody>\n",
       "</table>\n",
       "</div>"
      ],
      "text/plain": [
       "   customer_id              address  postcode            state    country  \\\n",
       "0            1   060 Morning Avenue      2016  New South Wales  Australia   \n",
       "1            2  6 Meadow Vale Court      2153  New South Wales  Australia   \n",
       "2            4   0 Holy Cross Court      4211              QLD  Australia   \n",
       "3            5  17979 Del Mar Point      2448  New South Wales  Australia   \n",
       "4            6     9 Oakridge Court      3216              VIC  Australia   \n",
       "\n",
       "   property_valuation  \n",
       "0                  10  \n",
       "1                  10  \n",
       "2                   9  \n",
       "3                   4  \n",
       "4                   9  "
      ]
     },
     "execution_count": 113,
     "metadata": {},
     "output_type": "execute_result"
    }
   ],
   "source": [
    "address.head()"
   ]
  },
  {
   "cell_type": "code",
   "execution_count": 114,
   "metadata": {},
   "outputs": [
    {
     "data": {
      "text/plain": [
       "False"
      ]
     },
     "execution_count": 114,
     "metadata": {},
     "output_type": "execute_result"
    }
   ],
   "source": [
    "# Check duplications\n",
    "address.duplicated().sum().any()"
   ]
  },
  {
   "cell_type": "code",
   "execution_count": 115,
   "metadata": {},
   "outputs": [
    {
     "data": {
      "text/html": [
       "<div>\n",
       "<style scoped>\n",
       "    .dataframe tbody tr th:only-of-type {\n",
       "        vertical-align: middle;\n",
       "    }\n",
       "\n",
       "    .dataframe tbody tr th {\n",
       "        vertical-align: top;\n",
       "    }\n",
       "\n",
       "    .dataframe thead th {\n",
       "        text-align: right;\n",
       "    }\n",
       "</style>\n",
       "<table border=\"1\" class=\"dataframe\">\n",
       "  <thead>\n",
       "    <tr style=\"text-align: right;\">\n",
       "      <th></th>\n",
       "      <th>customer_id</th>\n",
       "      <th>postcode</th>\n",
       "      <th>property_valuation</th>\n",
       "    </tr>\n",
       "  </thead>\n",
       "  <tbody>\n",
       "    <tr>\n",
       "      <th>count</th>\n",
       "      <td>3999.000000</td>\n",
       "      <td>3999.000000</td>\n",
       "      <td>3999.000000</td>\n",
       "    </tr>\n",
       "    <tr>\n",
       "      <th>mean</th>\n",
       "      <td>2003.987997</td>\n",
       "      <td>2985.755939</td>\n",
       "      <td>7.514379</td>\n",
       "    </tr>\n",
       "    <tr>\n",
       "      <th>std</th>\n",
       "      <td>1154.576912</td>\n",
       "      <td>844.878364</td>\n",
       "      <td>2.824663</td>\n",
       "    </tr>\n",
       "    <tr>\n",
       "      <th>min</th>\n",
       "      <td>1.000000</td>\n",
       "      <td>2000.000000</td>\n",
       "      <td>1.000000</td>\n",
       "    </tr>\n",
       "    <tr>\n",
       "      <th>25%</th>\n",
       "      <td>1004.500000</td>\n",
       "      <td>2200.000000</td>\n",
       "      <td>6.000000</td>\n",
       "    </tr>\n",
       "    <tr>\n",
       "      <th>50%</th>\n",
       "      <td>2004.000000</td>\n",
       "      <td>2768.000000</td>\n",
       "      <td>8.000000</td>\n",
       "    </tr>\n",
       "    <tr>\n",
       "      <th>75%</th>\n",
       "      <td>3003.500000</td>\n",
       "      <td>3750.000000</td>\n",
       "      <td>10.000000</td>\n",
       "    </tr>\n",
       "    <tr>\n",
       "      <th>max</th>\n",
       "      <td>4003.000000</td>\n",
       "      <td>4883.000000</td>\n",
       "      <td>12.000000</td>\n",
       "    </tr>\n",
       "  </tbody>\n",
       "</table>\n",
       "</div>"
      ],
      "text/plain": [
       "       customer_id     postcode  property_valuation\n",
       "count  3999.000000  3999.000000         3999.000000\n",
       "mean   2003.987997  2985.755939            7.514379\n",
       "std    1154.576912   844.878364            2.824663\n",
       "min       1.000000  2000.000000            1.000000\n",
       "25%    1004.500000  2200.000000            6.000000\n",
       "50%    2004.000000  2768.000000            8.000000\n",
       "75%    3003.500000  3750.000000           10.000000\n",
       "max    4003.000000  4883.000000           12.000000"
      ]
     },
     "execution_count": 115,
     "metadata": {},
     "output_type": "execute_result"
    }
   ],
   "source": [
    "# Check Numeric variables:\n",
    "address.describe()"
   ]
  },
  {
   "cell_type": "code",
   "execution_count": 116,
   "metadata": {},
   "outputs": [
    {
     "data": {
      "text/plain": [
       "array(['060 Morning Avenue', '6 Meadow Vale Court', '0 Holy Cross Court',\n",
       "       ..., '87 Crescent Oaks Alley', '8194 Lien Street',\n",
       "       '320 Acker Drive'], dtype=object)"
      ]
     },
     "execution_count": 116,
     "metadata": {},
     "output_type": "execute_result"
    }
   ],
   "source": [
    "# Check categorical variables:\n",
    "\n",
    "# Check Address:\n",
    "address.address.unique()"
   ]
  },
  {
   "cell_type": "code",
   "execution_count": 117,
   "metadata": {},
   "outputs": [
    {
     "data": {
      "text/plain": [
       "<matplotlib.axes._subplots.AxesSubplot at 0x7fd44665afd0>"
      ]
     },
     "execution_count": 117,
     "metadata": {},
     "output_type": "execute_result"
    },
    {
     "data": {
      "image/png": "[encoded data removed]",
      "text/plain": [
       "<Figure size 432x288 with 1 Axes>"
      ]
     },
     "metadata": {
      "needs_background": "light"
     },
     "output_type": "display_data"
    }
   ],
   "source": [
    "# Check State:\n",
    "address.state.value_counts().plot(kind = 'bar')"
   ]
  },
  {
   "cell_type": "code",
   "execution_count": 118,
   "metadata": {},
   "outputs": [
    {
     "data": {
      "text/plain": [
       "Australia    3999\n",
       "Name: country, dtype: int64"
      ]
     },
     "execution_count": 118,
     "metadata": {},
     "output_type": "execute_result"
    }
   ],
   "source": [
    "# Check Country:\n",
    "address.country.value_counts()"
   ]
  },
  {
   "cell_type": "markdown",
   "metadata": {},
   "source": [
    "The numerical varibales in the Address data seems accurate without duplication and extreme values. For categorical variables, in the State column, some expressions such as \"New South Wales\" and \"Victoria\" should be adjusted to the correct expression \"NSW\" and \"VIC\". "
   ]
  }
 ],
 "metadata": {
  "kernelspec": {
   "display_name": "Python 3",
   "language": "python",
   "name": "python3"
  },
  "language_info": {
   "codemirror_mode": {
    "name": "ipython",
    "version": 3
   },
   "file_extension": ".py",
   "mimetype": "text/x-python",
   "name": "python",
   "nbconvert_exporter": "python",
   "pygments_lexer": "ipython3",
   "version": "3.8.3"
  }
 },
 "nbformat": 4,
 "nbformat_minor": 4
}
